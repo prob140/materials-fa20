{
 "cells": [
  {
   "cell_type": "markdown",
   "metadata": {},
   "source": [
    "<table align=\"left\" style=\"border-style: hidden\" class=\"table\"> <tr><td class=\"col-md-2\"><img style=\"float\" src=\"http://prob140.org/assets/icon256.png\" alt=\"Prob140 Logo\" style=\"width: 120px;\"/></td><td><div align=\"left\"><h3 style=\"margin-top: 0;\">Probability for Data Science</h3><h4 style=\"margin-top: 20px;\">UC Berkeley, Spring 2020</h4><p>Ani Adhikari and Jim Pitman</p>CC BY-NC 4.0</div></td></tr></table><!-- not in pdf -->"
   ]
  },
  {
   "cell_type": "markdown",
   "metadata": {
    "#solution": false,
    "#staff": false,
    "#student": false
   },
   "source": [
    "# Week 2 Checkpoint"
   ]
  },
  {
   "cell_type": "markdown",
   "metadata": {
    "#solution": false,
    "#staff": false,
    "#student": false
   },
   "source": [
    "**Note:** The content required for this checkpoint comes from Chapters 3 and 4 of the textbook. "
   ]
  },
  {
   "cell_type": "markdown",
   "metadata": {
    "#solution": false,
    "#staff": false,
    "#student": false
   },
   "source": [
    "**1.** Two draws are made at random from a box containing four tickets numbered 1, 2, 2, and 3. Let $X_1$ be the number on the first ticket drawn and $X_2$ be the number on the second. In each part below, say whether the statement is true or false.\n",
    "\n",
    "**(a)** If the draws are made with replacement, then $X_1$ and $X_2$ are independent.\n",
    "\n",
    "**(b)** If the draws are made without replacement, then $X_1$ and $X_2$ are independent.\n",
    "\n",
    "**(c)** If the draws are made with replacement, then $X_1$ and $X_2$ have the same distribution.\n",
    "\n",
    "**(d)** If the draws are made without replacement, then $X_1$ and $X_2$ have the same distribution."
   ]
  },
  {
   "cell_type": "markdown",
   "metadata": {
    "#solution": false,
    "#staff": false,
    "#student": false
   },
   "source": [
    "**2.** A deck contains five cards, three of which are black and two of which are red. Cards are drawn at random without replacement. Let $D_1$ and $D_2$ be the number of draws until the first and second red cards, respectively. For example, for the sequence of draws RBBRB, $D_1=1$ and $D_2=4$.\n",
    "\n",
    "**(a)** Find the joint distribution of $D_1$ and $D_2$.\n",
    "\n",
    "**(b)** Find the distribution of $D_1$.\n",
    "\n",
    "**(c)** Find the conditional distribution of $D_2$ given that $D_1=k$ for $1 \\le k \\le 4$."
   ]
  }
 ],
 "metadata": {
  "checksums": [
   "aa2e7c3af3f1e128978a7970cb014c83",
   "95c14b70ada45f69007f6777676ef832",
   "b3b87f21b6b90c4eb4d9432edc6b94fe",
   "af38788d19d94e3e8f6c4f1d9596cc95",
   "35d2e2ceceb4d0ad21f05678596d2cae"
  ],
  "kernelspec": {
   "display_name": "Python 3",
   "language": "python",
   "name": "python3"
  },
  "language_info": {
   "codemirror_mode": {
    "name": "ipython",
    "version": 3
   },
   "file_extension": ".py",
   "mimetype": "text/x-python",
   "name": "python",
   "nbconvert_exporter": "python",
   "pygments_lexer": "ipython3",
   "version": "3.7.3"
  },
  "number_of_pagebreaks": 0
 },
 "nbformat": 4,
 "nbformat_minor": 2
}
