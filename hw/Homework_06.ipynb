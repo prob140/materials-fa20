{
 "cells": [
  {
   "cell_type": "markdown",
   "metadata": {
    "#solution": false,
    "#staff": false,
    "#student": false
   },
   "source": [
    "<table align=\"left\" style=\"border-style: hidden\" class=\"table\"> <tr><td class=\"col-md-2\"><img style=\"float\" src=\"http://prob140.org/assets/icon256.png\" alt=\"Prob140 Logo\" style=\"width: 120px;\"/></td><td><div align=\"left\"><h3 style=\"margin-top: 0;\">Probability for Data Science</h3><h4 style=\"margin-top: 20px;\">UC Berkeley, Fall 2020</h4><p>Ani Adhikari</p>CC BY-NC-SA 4.0</div></td></tr></table><!-- not in pdf -->\n",
    "\n",
    "This content is protected and may not be shared, uploaded, or distributed."
   ]
  },
  {
   "cell_type": "markdown",
   "metadata": {
    "#solution": false,
    "#staff": false,
    "#student": false
   },
   "source": [
    "# Homework 6 #"
   ]
  },
  {
   "cell_type": "markdown",
   "metadata": {
    "#solution": false,
    "#staff": false,
    "#student": false
   },
   "source": [
    "### Instructions ###\n",
    "\n",
    "This homework is entirely written. Written work should be completed on paper; you are welcome to LaTeX your answers to the written portions instead, but staff will not be able to assist you with LaTeX related issues. It is your responsibility to ensure that both components of the homework are submitted completely and properly to Gradescope. Refer to the bottom of the notebook for submission instructions."
   ]
  },
  {
   "cell_type": "markdown",
   "metadata": {
    "#solution": false,
    "#staff": false,
    "#student": false
   },
   "source": [
    "### 1. Bounds ###\n",
    "A random variable $X$, not necessarily non-negative, has $E(X) = 20$ and $SD(X) = 4$. In each part below **find the best bounds you can** based on the information given.\n",
    "\n",
    "**(a)** Find upper and lower bounds for $P(0 < X < 40)$.\n",
    "\n",
    "**(b)** Find upper and lower bounds for $P(10 < X < 40)$.\n",
    "\n",
    "**(c)** Find an upper bound for $P(X \\ge 40)$.\n",
    "\n",
    "**(d)** Find an upper bound for $P(X^2 \\ge 900)$."
   ]
  },
  {
   "cell_type": "markdown",
   "metadata": {
    "#solution": false,
    "#staff": false,
    "#student": false
   },
   "source": [
    "#newpage"
   ]
  },
  {
   "cell_type": "markdown",
   "metadata": {
    "#solution": false,
    "#staff": false,
    "#student": false
   },
   "source": [
    "### 2. Correlation ###\n",
    "The covariance of random variables $X$ and $Y$ has nasty units: the product of the units of $X$ and the units of $Y$. Dividing the covariance by the two SDs results in an important pure number.\n",
    "\n",
    "The *correlation coefficient* between random variables $X$ and $Y$ is defined as\n",
    "\n",
    "$$\n",
    "r(X, Y) ~ = \\frac{Cov(X, Y)}{SD(X)SD(Y)}\n",
    "$$\n",
    "\n",
    "It is called the correlation, for short. The definition explains why $X$ and $Y$ are called *uncorrelated* if $Cov(X, Y) = 0$.\n",
    "\n",
    "**a)** Let $X^*$ be $X$ in standard units and let $Y^*$ be $Y$ in standard units. Check that\n",
    "\n",
    "$$\n",
    "r(X, Y) = E(X^*Y^*)\n",
    "$$\n",
    "\n",
    "This is the random variable version of the Data 8 definition of the correlation between two data variables: convert each variable to standard units; multiply each pair; take the mean of the products.\n",
    "\n",
    "**b)** Use the fact that $(X^* + Y^*)^2$ and $(X^* - Y^*)^2$ are non-negative random variables to show that $-1 \\le r(X, Y) \\le 1$.\n",
    "\n",
    "[First find the numerical values of $E(X^*)$ and $E({X^*}^2)$. Then find $E(X^* + Y^*)^2$.]\n",
    "\n",
    "**c)** Show that if $Y = aX+b$ where $a \\ne 0$, then $r(X, Y)$ is 1 or $-1$ depending on whether the sign of $a$ is positive or negative.\n",
    "\n",
    "**d)** Consider a sequence of i.i.d. Bernoulli $(p)$ trials. For any positive integer $k$ let $X_k$ be the number of successes in trials 1 through $k$. **Use bilinearity** to find $Cov(X_n, X_{n+m})$ and hence find $r(X_n, X_{n+m})$.\n",
    "\n",
    "**e)** Fix $n$ and find the limit of your answer to **c** as $m \\to \\infty$. Explain why the limit is consistent with intuition."
   ]
  },
  {
   "cell_type": "markdown",
   "metadata": {
    "#solution": false,
    "#staff": false,
    "#student": false
   },
   "source": [
    "#newpage"
   ]
  },
  {
   "cell_type": "markdown",
   "metadata": {
    "#solution": false,
    "#staff": false,
    "#student": false
   },
   "source": [
    "### 3. The Matching Problem ###\n",
    "\n",
    "In the familiar setting of the matching problem, there are $n$ letters labeled 1 through $n$ and $n$ envelopes labeled 1 through $n$. The letters are distributed at random into the envelopes, one letter per envelope, such that all $n!$ permutations are equally likely.\n",
    "\n",
    "Let $M$ be the number of letters that fall into envelopes with the corresponding label. That is, $M$ is the number of \"matches\" or fixed points of the permutation.\n",
    "\n",
    "**(a)** Fill in the blank:\n",
    "\n",
    "$$M = I_1 + I_2 + \\ldots + I_n$$ \n",
    "\n",
    "where for each $j$ in the range 1 through $n$, $I_j = 1$ if $\\underline{~~~~~~~~~~~~~~~~~~~~~~~~~~~~~~~~~~~~~~~~~~~~~~~~~~~~~~~~~~~~~~~~~~}$, and $I_j = 0$ otherwise.\n",
    "\n",
    "**(b)** Use Part **(a)** to show that $E(M)$ has the same numerical value for all $n$.\n",
    "\n",
    "**(c)** Use Part **(a)** to show that $Var(M)$ has the same numerical value for all $n$.\n",
    "\n",
    "**(d)** In Lab 2 you found the approximate distribtion of $M$ when $n$ is large. Are your answers to Parts **(c)** and **(d)** consistent with that approximation?"
   ]
  },
  {
   "cell_type": "markdown",
   "metadata": {
    "#solution": false,
    "#staff": false,
    "#student": false
   },
   "source": [
    "#newpage"
   ]
  },
  {
   "cell_type": "markdown",
   "metadata": {
    "#solution": false,
    "#staff": false,
    "#student": false
   },
   "source": [
    "### 4. Collecting Distinct Values ###\n",
    "\n",
    "In Homework 4 you found the expectation of each of the random variables below. **Go back and see how you did that, and then use the same ideas** to find the variance of each one. \n",
    "\n",
    "For one part you will need the fact that the SD of a geometric $(p)$ random variable is $\\frac{\\sqrt{q}}{p}$ where $q = 1-p$. We haven't proved that as the algebra takes a bit of work. We will prove it later in the course by conditioning.\n",
    "\n",
    "**(a)** A die is rolled $n$ times. Find the variance of number of faces that *do not* appear.\n",
    "\n",
    "**(b)** Use your answer to (a) to find the variance of the number of distinct faces that *do* appear in $n$ rolls of a die.\n",
    "\n",
    "**(c)** Find the variance of the number of times you have to roll a die till you have seen all of the faces."
   ]
  },
  {
   "cell_type": "markdown",
   "metadata": {
    "#solution": false,
    "#staff": false,
    "#student": false
   },
   "source": [
    "#newpage"
   ]
  },
  {
   "cell_type": "markdown",
   "metadata": {
    "#solution": false,
    "#staff": false,
    "#student": false
   },
   "source": [
    "### 5. The \"Sample Variance\" ###\n",
    "Let $X_1, X_2, \\ldots, X_n$ be i.i.d., each with mean $\\mu$ and SD $\\sigma$. Let $\\bar{X} = \\frac{1}{n}\\sum_{i=1} X_i$ be the sample mean.\n",
    "\n",
    "**(a)** Find $E(\\bar{X})$ and $SD(\\bar{X})$.\n",
    "\n",
    "**(b)** For each $i$, find $Cov(X_i, \\bar{X})$. [Plug in the definition of $\\bar{X}$ and use bilinearity.]\n",
    "\n",
    "**(c)** For each $i$ in the range 1 through $n$, define the *$i$th deviation in the sample* as $D_i = X_i - \\bar{X}$. Find $E(D_i)$ and $Var(D_i)$. [Write the variance as $Cov(D_i, D_i)$, plug in the definition of $D_i$, and use bilinearity.]\n",
    "\n",
    "**(d)** Define the random variable $\\hat{\\sigma}^2$ as\n",
    "$$\n",
    "\\hat{\\sigma}^2 ~ = ~ \\frac{1}{n} \\sum_{i=1}^n D_i^2\n",
    "$$\n",
    "Find $E(\\hat{\\sigma}^2)$.\n",
    "\n",
    "For this random variable, the notation $\\hat{\\sigma}^2$ is pretty standard in statistics. Just think of $\\hat{\\sigma}^2$ as a symbol; it doesn't help to start thinking about the random variable that is its square root.\n",
    "\n",
    "**(e)** Use Part **d** to construct a random variable denoted $S^2$ that is an unbiased estimator of $\\sigma^2$. This random variable $S^2$ is called the *sample variance* and is frequently used in inference."
   ]
  }
 ],
 "metadata": {
  "checksums": [
   "6ce01b983a25cd97178a7a36d4272478",
   "d49f1a865cc9a516c3b9f11e3251c42d",
   "617332ca20259dc6d47aba2b39bf3627",
   "5c230f42207f0b7535b29bc03eefc3bd",
   "640061103a186fd26f59746dd4d6de57",
   "7a6a4e1b007b746bebc9208575e9fc6e",
   "640061103a186fd26f59746dd4d6de57",
   "088571916796cb259b8802a1ab44b147",
   "640061103a186fd26f59746dd4d6de57",
   "7396dac3890bc2c1f100551808490a36",
   "640061103a186fd26f59746dd4d6de57",
   "2126a3aca0e607df0d058eb0a2f45a84"
  ],
  "kernelspec": {
   "display_name": "Python 3",
   "language": "python",
   "name": "python3"
  },
  "language_info": {
   "codemirror_mode": {
    "name": "ipython",
    "version": 3
   },
   "file_extension": ".py",
   "mimetype": "text/x-python",
   "name": "python",
   "nbconvert_exporter": "python",
   "pygments_lexer": "ipython3",
   "version": "3.7.4"
  },
  "number_of_pagebreaks": 4
 },
 "nbformat": 4,
 "nbformat_minor": 2
}
