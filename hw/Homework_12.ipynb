{
 "cells": [
  {
   "cell_type": "markdown",
   "metadata": {
    "#solution": false,
    "#staff": false,
    "#student": false
   },
   "source": [
    "<table align=\"left\" style=\"border-style: hidden\" class=\"table\"> <tr><td class=\"col-md-2\"><img style=\"float\" src=\"http://prob140.org/assets/icon256.png\" alt=\"Prob140 Logo\" style=\"width: 120px;\"/></td><td><div align=\"left\"><h3 style=\"margin-top: 0;\">Probability for Data Science</h3><h4 style=\"margin-top: 20px;\">UC Berkeley, Fall 2020</h4><p>Ani Adhikari and Jim Pitman</p>CC BY-NC 4.0</div></td></tr></table><!-- not in pdf -->"
   ]
  },
  {
   "cell_type": "markdown",
   "metadata": {
    "#solution": false,
    "#staff": false,
    "#student": false
   },
   "source": [
    "# Homework 12"
   ]
  },
  {
   "cell_type": "markdown",
   "metadata": {
    "#solution": false,
    "#staff": false,
    "#student": false
   },
   "source": [
    "### Instructions\n",
    "\n",
    "Your homeworks have two components: a written portion and a portion that also involves code.  Written work should be completed on paper, and coding questions should be done in the notebook.  You are welcome to $\\LaTeX$ your answers to the written portions, but staff will not be able to assist you with $\\LaTeX$ related issues. It is your responsibility to ensure that both components of the homework are submitted completely and properly to Gradescope. Refer to the bottom of the notebook for submission instructions."
   ]
  },
  {
   "cell_type": "code",
   "execution_count": null,
   "metadata": {
    "#solution": false,
    "#staff": false,
    "#student": false
   },
   "outputs": [],
   "source": [
    "import warnings\n",
    "warnings.filterwarnings('ignore')\n",
    "from datascience import *\n",
    "from prob140 import *\n",
    "import numpy as np\n",
    "from scipy import stats\n",
    "import matplotlib.pyplot as plt\n",
    "plt.style.use('fivethirtyeight')\n",
    "%matplotlib inline"
   ]
  },
  {
   "cell_type": "markdown",
   "metadata": {
    "#solution": false,
    "#staff": false,
    "#student": false
   },
   "source": [
    "## 1. Predicting Scores ##\n",
    "\n",
    "[Your answers to this question should be decimal values or equations with numerical coefficients. For the arithmetic, you are welcome use the code cell at the end of the question. It's just there for your convenience – we won't read it.]\n",
    "\n",
    "Grades in a class are based on a linear combination of a final exam (worth 50% of the grade), a midterm (worth 30%), and homework (worth 20%). Let the random vector $[F ~~ M ~~ H]^T$ consist of the final, midterm, and homework scores of a randomly picked student.\n",
    "\n",
    "Suppose the mean vector of $[F ~~ M ~~ H]^T$ is $[60 ~~ 55 ~~ 80]^T$ and the covariance matrix is\n",
    "\n",
    "$$\n",
    "\\begin{bmatrix}\n",
    "121 & 80 & 10 \\\\\n",
    "80 & 144 & 15 \\\\\n",
    "10 & 15 & 9\n",
    "\\end{bmatrix}\n",
    "$$\n",
    "\n",
    "Assume that the distribution of $[F ~~ M ~~ H]^T$ is multivariate normal. \n",
    "\n",
    "**a)** Find the distribution of the student's overall score $S = 0.5F + 0.3M + 0.2H$.\n",
    "\n",
    "**b)** The instructor wonders whether the final exam score $F$ can just be predicted by a linear function of the random variable $X = 0.3M + 0.2H$. Find the least squares predictor of $F$ based on $X$. Is it linear?\n",
    "\n",
    "**c)** Find the root mean squared error of the predictor in Part **b**."
   ]
  },
  {
   "cell_type": "code",
   "execution_count": null,
   "metadata": {
    "#solution": false,
    "#staff": false,
    "#student": true
   },
   "outputs": [],
   "source": [
    "weight = np.matrix([0.5, 0.3, 0.2])\n",
    "mu = np.matrix([60, 55, 80])\n",
    "cov = np.matrix([[121, 80, 10], \n",
    "      [80, 144, 15],\n",
    "      [10, 15, 9]])\n",
    "\n",
    "..."
   ]
  },
  {
   "cell_type": "markdown",
   "metadata": {
    "#solution": false,
    "#staff": false,
    "#student": false
   },
   "source": [
    "## 2. \"No Intercept\" Linear Regression ##\n",
    "\n",
    "Let $X$ and $Y$ be jointly distributed random variables. Suppose you want to predict $Y$ by a function of the form $aX$ for some constant $a$. You might want to do this if for example you believe that $Y$ is proportional to $X$ but you have noisy data. \n",
    "\n",
    "**a)** Let $MSE(a)$ denote the mean squared error of the predictor $aX$. Fill in the blank with a random variable:\n",
    "\n",
    "$MSE(a) ~ = ~ E(\\underline{~~~~~~~~~~~~~~~~~~~~~~~~~~~~~~~~~~~~~})$\n",
    "\n",
    "**b)** Find the value $a^*$ that minimizes $MSE(a)$ over all $a$.\n",
    "\n",
    "**c)** Define the residual $D = Y - a^*X$. True or false (explain or calculate): $E(D) = 0$.\n",
    "\n",
    "**d)** Find $MSE(a^*)$.\n",
    "\n",
    "**e)** Use Part **d** to prove the *Cauchy-Schwarz Inequality*: For jointly distributed random variables $X$ and $Y$, $\\vert E(XY) \\vert \\le \\sqrt{E(X^2)E(Y^2)}$."
   ]
  },
  {
   "cell_type": "markdown",
   "metadata": {
    "#solution": false,
    "#staff": false,
    "#student": false
   },
   "source": [
    "## 3. Heights of Mothers and Daughters ##\n",
    "\n",
    "The heights of a population of mother-daughter pairs have a bivariate normal distribution with correlation 0.5.\n",
    "\n",
    "**a)** Of the mothers on the 90th percentile of mothers' heights, what proportion have daughters who are taller than the 90th percentile of daughters' heights?\n",
    "\n",
    "**b)** In what proportion of mother-daughter pairs are both women taller than average? (This means the mothers are taller than the average mother and the daughters are taller than the average daughter.)\n",
    "\n",
    "[Hint: Remember that you can express standard bivariate normal variables in terms of two independent standard normal variables.]"
   ]
  },
  {
   "cell_type": "markdown",
   "metadata": {
    "#solution": false,
    "#staff": false,
    "#student": false
   },
   "source": [
    "## 4. Multiple Regression: The Estimates ##\n",
    "\n",
    "This exercise assumes the multiple regression model of [Section 25.4](http://prob140.org/textbook/Chapter_25/04_Multiple_Regression.html) of the textbook and uses the same notation as in that section. \n",
    "\n",
    "You will need the results of [Section 23.1](http://prob140.org/textbook/content/Chapter_23/01_Random_Vectors.html).\n",
    "\n",
    "**a)** What are the dimensions of $E(\\hat{\\boldsymbol{\\beta}})$? Show that $\\hat{\\boldsymbol{\\beta}}$ is an unbiased estimator of $\\boldsymbol{\\beta}$.\n",
    "\n",
    "**b)** Find the covariance matrix of $\\hat{\\boldsymbol{\\beta}}$. The diagonal entries of this matrix tell you how variable the estimates of the coefficients are.\n",
    "\n",
    "**c)** What is the distribution of $\\hat{\\boldsymbol{\\beta}}$?\n",
    "\n",
    "**d)** Find the distribution of the fitted values $\\hat{\\mathbf{Y}}$."
   ]
  },
  {
   "cell_type": "markdown",
   "metadata": {
    "#solution": false,
    "#staff": false,
    "#student": false
   },
   "source": [
    "## 5. Multiple Regression: Residuals ##\n",
    "\n",
    "This exercise continues the previous one.\n",
    "\n",
    "The regression estimate $\\hat{\\mathbf{Y}}$ can be written as $\\mathbf{HY}$ for an $n \\times n$ matrix $\\mathbf{H}$. This matrix is called the *hat matrix*, probably because it ''puts the hat on $\\mathbf{Y}$.''\n",
    "\n",
    "**a)** Write $\\mathbf{H}$ in terms of $\\mathbf{X}$. Is $\\mathbf{H}$ symmetric?\n",
    "\n",
    "**b)** Show that $\\mathbf{H}$ is idempotent. (If you haven't seen that term before, look it up.)\n",
    "\n",
    "**c)** Find the distribution of the residual vector $\\mathbf{e}$.\n",
    "\n",
    "**d)** Show that the covariance matrix of $\\mathbf{e}$ is $\\sigma^2(\\mathbf{I} - \\mathbf{H})$."
   ]
  },
  {
   "cell_type": "markdown",
   "metadata": {
    "#solution": false,
    "#staff": false,
    "#student": false
   },
   "source": [
    "## Submission Instructions ##\n",
    "\n",
    "Many assignments throughout the course will have a written portion and a code portion. Please follow the directions below to properly submit both portions.\n",
    "\n",
    "### Written Portion ###\n",
    "*  Scan all the pages into a PDF. You can use any scanner or a phone using an application. Please **DO NOT** simply take pictures using your phone. \n",
    "* Please start a new page for each question. If you have already written multiple questions on the same page, you can crop the image or fold your page over (the old-fashioned way). This helps expedite grading.\n",
    "* It is your responsibility to check that all the work on all the scanned pages is legible.\n",
    "* If you used $\\LaTeX$ to do the written portions, you do not need to do any scanning; you can just download the whole notebook as a PDF via LaTeX.\n",
    "\n",
    "### Code Portion ###\n",
    "* Save your notebook using File > Save and Checkpoint.\n",
    "* Generate a PDF file using File > Download as > PDF via LaTeX. This might take a few seconds and will automatically download a PDF version of this notebook.\n",
    "    * If you have issues, please make a follow-up post on the general HW 12 Piazza thread.\n",
    "    \n",
    "### Submitting ###\n",
    "* Combine the PDFs from the written and code portions into one PDF.  [Here](https://smallpdf.com/merge-pdf) is a useful tool for doing so. \n",
    "* Submit the assignment to Homework 12 on Gradescope. \n",
    "* **Make sure to assign each page of your pdf to the correct question.**\n",
    "* **It is your responsibility to verify that all of your work shows up in your final PDF submission.**\n",
    "\n",
    "\n",
    "### **We will not grade assignments which do not have pages selected for each question.** "
   ]
  }
 ],
 "metadata": {
  "checksums": [
   "f55a7e1c90e2595b233c3956a2783786",
   "32f69a09ca5bbedfbdac5ea049b02ccd",
   "9d93a53b436a73e85f4f6e22226d4f9f",
   "d0602e0d9ce8b7fd066b0c8a788116c3",
   "f2145ea3ce2427cdccebee2c5f276142",
   "08fd9af0fbb917d6dcb1f32ebcc01c1a",
   "7734f3475f42938cffad4d1ed44ebabf",
   "52c241e99cac7efc6053a8588e95a3b8",
   "b7727d26e7ab1bd78676f62eda7ce6e2",
   "e39448f984f142642ad9bc9c6cdb9ddc",
   "97188fa3496358d555371eb786e15ea0"
  ],
  "kernelspec": {
   "display_name": "Python 3",
   "language": "python",
   "name": "python3"
  },
  "language_info": {
   "codemirror_mode": {
    "name": "ipython",
    "version": 3
   },
   "file_extension": ".py",
   "mimetype": "text/x-python",
   "name": "python",
   "nbconvert_exporter": "python",
   "pygments_lexer": "ipython3",
   "version": "3.8.5"
  },
  "number_of_pagebreaks": 0
 },
 "nbformat": 4,
 "nbformat_minor": 2
}
