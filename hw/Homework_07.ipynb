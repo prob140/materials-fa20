{
 "cells": [
  {
   "cell_type": "markdown",
   "metadata": {
    "#solution": false,
    "#staff": false,
    "#student": false
   },
   "source": [
    "<table align=\"left\" style=\"border-style: hidden\" class=\"table\"> <tr><td class=\"col-md-2\"><img style=\"float\" src=\"http://prob140.org/assets/icon256.png\" alt=\"Prob140 Logo\" style=\"width: 120px;\"/></td><td><div align=\"left\"><h3 style=\"margin-top: 0;\">Probability for Data Science</h3><h4 style=\"margin-top: 20px;\">UC Berkeley, Fall 2020</h4><p>Ani Adhikari</p>CC BY-NC-SA 4.0</div></td></tr></table><!-- not in pdf -->\n",
    "\n",
    "This content is protected and may not be shared, uploaded, or distributed."
   ]
  },
  {
   "cell_type": "markdown",
   "metadata": {
    "#solution": false,
    "#staff": false,
    "#student": false
   },
   "source": [
    "# Homework 7 #"
   ]
  },
  {
   "cell_type": "markdown",
   "metadata": {
    "#solution": false,
    "#staff": false,
    "#student": false
   },
   "source": [
    "### Instructions\n",
    "\n",
    "Your homeworks have two components: a written portion and a portion that also involves code.  Written work should be completed on paper, and coding questions should be done in the notebook.  You are welcome to $\\LaTeX$ your answers to the written portions, but staff will not be able to assist you with $\\LaTeX$ related issues. It is your responsibility to ensure that both components of the homework are submitted completely and properly to Gradescope. Refer to the bottom of the notebook for submission instructions."
   ]
  },
  {
   "cell_type": "code",
   "execution_count": null,
   "metadata": {
    "#solution": false,
    "#staff": false,
    "#student": false
   },
   "outputs": [],
   "source": [
    "# Run this cell to set up your notebook\n",
    "\n",
    "# These lines make warnings go away\n",
    "import warnings\n",
    "warnings.filterwarnings('ignore')\n",
    "\n",
    "import numpy as np\n",
    "from scipy import stats\n",
    "from datascience import *\n",
    "from prob140 import *\n",
    "\n",
    "# These lines do some fancy plotting magic\n",
    "import matplotlib\n",
    "%matplotlib inline\n",
    "import matplotlib.pyplot as plt\n",
    "plt.style.use('fivethirtyeight')"
   ]
  },
  {
   "cell_type": "markdown",
   "metadata": {
    "#solution": false,
    "#staff": false,
    "#student": false,
    "collapsed": true
   },
   "source": [
    "### 1. The Exact Distribution of a Sum ###\n",
    "In this exercise we will use the same shorthand as in the textbook: \"A random variable $W$ has distribution given by the probabilities $p_0, p_1, \\ldots, p_N$\" means that $P(W = i) = p_i$ for $0 \\le i \\le N$ and $\\sum_{i=0}^N p_i = 1$.\n",
    "\n",
    "Before you start this exercise, carefully go through the code in [Section 14.2](http://prob140.org/textbook/content/Chapter_14/02_PGFs_in_NumPy.html) of the textbook. For your answers, feel free to create more code cells as needed.\n",
    "\n",
    "**a) [CODE]** Let $X$ have the distribution given by $p_0 = 0.45$, $p_1 = 0.25$, $p_3 = 0.2$, $p_4 = 0.05$, $p_5 = 0.05$. Construct the pgf of $X$.\n",
    "\n",
    "**b) [CODE]** Let $X_1, X_2, \\ldots, X_8$ be i.i.d. with the same distribution as $X$ in (a). Let $S_X = X_1 + X_2 + \\cdots + X_8$. Use `Plot` to plot the probability histogram of $S_X$. \n",
    "\n",
    "**c) [CODE]** Find $P(S_X = 13)$.\n",
    "\n",
    "**d) [CODE]** Let $Y$ have the uniform distribution on the integers 4 through 8. Let $Y_1, Y_2, \\ldots, Y_{12}$ be i.i.d. with the same distribution as $Y$, and let $S_Y = Y_1 + Y_2 + \\cdots + Y_{12}$. Use `Plot` to plot the histogram of the distribution of $W = S_X + S_Y$.\n",
    "\n",
    "**e) [CODE]** For a `prob140` distribution object `dist`, the expression `dist.ev()` evaluates to the expectation and `dist.sd()` evaluates to the SD. At this point you should already have a distribution object representing $W$, so use these methods to find $E(W)$ and $SD(W)$. To check that you found the right distribution of $W$, use `.ev()` and `.sd()` to find the expectations and SDs of $X$ and $Y$, and then use rules of expectation and variance to find $E(W)$ and $SD(W)$. Confirm that these are the same as what you got from directly using the distribution of $W$. "
   ]
  },
  {
   "cell_type": "code",
   "execution_count": null,
   "metadata": {
    "#solution": false,
    "#staff": false,
    "#student": true
   },
   "outputs": [],
   "source": [
    "#Answer to 1a\n",
    "\n",
    "# Construct the distribution of X\n",
    "dist_X = ... \n",
    "\n",
    "# Extract the array of probabilities\n",
    "probs_X = ... \n",
    "\n",
    "# Get the coefficients of the pgf in the appropriate order\n",
    "coeffs_X = ... \n",
    "\n",
    "# Construct the pgf\n",
    "pgf_X = ...\n",
    "\n",
    "# Display the pgf\n",
    "print(pgf_X)"
   ]
  },
  {
   "cell_type": "code",
   "execution_count": null,
   "metadata": {
    "#solution": false,
    "#staff": false,
    "#student": true
   },
   "outputs": [],
   "source": [
    "#Answer to 1b\n",
    "\n",
    "pgf_SX = ... # pgf of S_X\n",
    "coeffs_SX = ... # coefficients of pgf of S_X\n",
    "\n",
    "# Distribution object for S_X\n",
    "# Careful ...\n",
    "# Think how you will extract the possible values and corresponding chances.\n",
    "# Use extra lines if you need them.\n",
    "\n",
    "dist_SX = ... \n",
    "\n",
    "Plot(dist_SX)"
   ]
  },
  {
   "cell_type": "code",
   "execution_count": null,
   "metadata": {
    "#solution": false,
    "#staff": false,
    "#student": true
   },
   "outputs": [],
   "source": [
    "#Answer to 1c\n",
    "..."
   ]
  },
  {
   "cell_type": "code",
   "execution_count": null,
   "metadata": {
    "#solution": false,
    "#staff": false,
    "#student": true
   },
   "outputs": [],
   "source": [
    "#Answer to 1d\n",
    "\n",
    "# The following is provided as a very brief skeleton\n",
    "# The solution uses more lines than are provided in the skeleton\n",
    "# Be sure to refer to your setup for (1a) and (1b)\n",
    "\n",
    "dist_Y = ... # distribution object for Y\n",
    "pgf_Y = ... # pgf of Y\n",
    "pgf_SY = ... # pgf of S_Y\n",
    "pgf_W = ... # pgf of W \n",
    "dist_W = ... # distribution object for W\n",
    "\n",
    "Plot(dist_W)"
   ]
  },
  {
   "cell_type": "code",
   "execution_count": null,
   "metadata": {
    "#solution": false,
    "#staff": false,
    "#student": true
   },
   "outputs": [],
   "source": [
    "#Answer to 1e\n",
    "\n",
    "# Use dist_W here\n",
    "print(\"E(W) =\", ...)\n",
    "print(\"SD(W) =\", ...)\n",
    "\n",
    "# Use dist_X and dist_Y here\n",
    "\n",
    "print(\"E(W) =\", ...)\n",
    "print(\"SD(W) =\", ...)"
   ]
  },
  {
   "cell_type": "markdown",
   "metadata": {
    "#solution": false,
    "#staff": false,
    "#student": false
   },
   "source": [
    "#newpage"
   ]
  },
  {
   "cell_type": "markdown",
   "metadata": {
    "#solution": false,
    "#staff": false,
    "#student": false
   },
   "source": [
    "### 2. What's Normal? ###\n",
    "\n",
    "Before you answer this question, please read all of [Section 14.5](http://prob140.org/textbook/content/Chapter_14/05_Confidence_Intervals.html) of the textbook. \n",
    "\n",
    "As a preliminary (which is also in the textbook section), let $\\Phi$ be the standard normal cdf, that is, $\\Phi(z) = P(Z \\le z)$ where $Z$ is a standard normal random variable. Then you know that for a specified $z$ you can find $\\Phi(z)$ by using `stats.norm.cdf(z, mean, sd)`:"
   ]
  },
  {
   "cell_type": "code",
   "execution_count": null,
   "metadata": {
    "#solution": false,
    "#staff": false,
    "#student": false
   },
   "outputs": [],
   "source": [
    "z = 2\n",
    "stats.norm.cdf(2, 0, 1)"
   ]
  },
  {
   "cell_type": "markdown",
   "metadata": {
    "#solution": false,
    "#staff": false,
    "#student": false
   },
   "source": [
    "The function $\\Phi^{-1}$ returns the $z$ for a specified value of $\\Phi$. That is, $\\Phi^{-1}(p)$ is the value of $z$ such that $\\Phi(z) = p$. \n",
    "\n",
    "In the `stats` module, $\\Phi^{-1}$ is called the \"percent point function\" and the call is `stats.norm.ppf(p, mean, SD)`:"
   ]
  },
  {
   "cell_type": "code",
   "execution_count": null,
   "metadata": {
    "#solution": false,
    "#staff": false,
    "#student": false
   },
   "outputs": [],
   "source": [
    "stats.norm.ppf(0.9772498680518208, 0, 1)"
   ]
  },
  {
   "cell_type": "markdown",
   "metadata": {
    "#solution": false,
    "#staff": false,
    "#student": false
   },
   "source": [
    "In any part of this question that involves a sample size, you can assume the sample size is big enough for the Central Limit Theorem approximation to be good. But pay attention to what is being approximated by the CLT.\n",
    "\n",
    "**a)** In a simple random sample of 1000 faculty taken among all universities in a country, the number of papers published by the individual sampled faculty in the past year had a mean of 1.1 and an SD of 1.8. Does the Central Limit Theorem say that the distribution of the number of papers published by the sampled faculty in the past year is roughly normal? If not, what do you think is the shape of that distribution? Explain based on the information given in the problem.\n",
    "\n",
    "**b)** Continuing Part **a**, construct an approximate 90% confidence interval for the mean number of papers published by faculty at all universities in the country in the past year. Justify your answer. If it is not possible to construct the interval, explain why not."
   ]
  },
  {
   "cell_type": "markdown",
   "metadata": {
    "#solution": false,
    "#staff": false,
    "#student": false
   },
   "source": [
    "#newpage"
   ]
  },
  {
   "cell_type": "markdown",
   "metadata": {
    "#solution": false,
    "#staff": false,
    "#student": false
   },
   "source": [
    "### 3. Widths of Confidence Intervals ###\n",
    "In any part of this question that involves a sample size, you can assume the sample size is big enough for the Central Limit Theorem approximation to be good.\n",
    "\n",
    "**a)** A survey organization has used the methods of our class to construct an approximate 95% confidence interval for the mean annual income of households in a county. The interval runs from $\\$66,000$ to $\\$70,000$. If possible, find an approximate 99% confidence interval for the mean annual income of households in the county. If this is not possible, explain why not.\n",
    "\n",
    "**b)** A survey organization is going to take a simple random sample of $n$ voters from among all the voters in a state, to construct a 99% confidence interval for the proportion of voters who favor a proposition. Find an $n$ such that the total width of the confidence interval (left end to right end) will be no more than 0.06. Remember that you can bound the [variance of an indicator](http://prob140.org/textbook/content/Chapter_12/01_Definition.html#indicator)."
   ]
  },
  {
   "cell_type": "markdown",
   "metadata": {
    "#solution": false,
    "#staff": false,
    "#student": false
   },
   "source": [
    "#newpage"
   ]
  },
  {
   "cell_type": "markdown",
   "metadata": {
    "#solution": false,
    "#staff": false,
    "#student": false
   },
   "source": [
    "### 4. Density Operations ###\n",
    "\n",
    "Let the density of $X$ be given by \n",
    "\n",
    "$$\n",
    "f(x) ~ = ~ \n",
    "\\begin{cases}\n",
    "\\frac{3}{2}(1 - x^2) ~~~~~ \\text{ for } 0 \\le x \\le 1\\\\\n",
    "0 ~~~~~~ \\text{ otherwise}\n",
    "\\end{cases}\n",
    "$$\n",
    "\n",
    "Find numerical values for each of the following. Show your work on paper, and use the code cell below for the final numerical calculations. \n",
    "\n",
    "**a)** $P(\\vert X - 0.5 \\vert > 0.2)$\n",
    "\n",
    "**b)** $P(\\vert X - 0.5 \\vert > 0.2 \\mid X > 0.4)$\n",
    "\n",
    "**c)** $E(X)$\n",
    "\n",
    "**d)** $SD(X)$"
   ]
  },
  {
   "cell_type": "markdown",
   "metadata": {
    "#solution": false,
    "#staff": false,
    "#student": false
   },
   "source": [
    "#newpage"
   ]
  },
  {
   "cell_type": "markdown",
   "metadata": {
    "#solution": false,
    "#staff": false,
    "#student": false
   },
   "source": [
    "### 5. Relations Between Three Well Known Distributions ###\n",
    "\n",
    "**a)** Let $U$ be uniform on $(0, 1)$ and let $X = -\\log(U)$. Find the possible values of $X$ and the cdf of $X$. Recognize that $X$ has a well known distribution and provide its name and parameters.\n",
    "\n",
    "**b)** Products of uniform $(0, 1)$ random samples arise when the data are \"fractions of fractions of fractions of ...\" some quantity. Let $U_1, U_2, \\ldots, U_n$ be an i.i.d. uniform $(0, 1)$ sample and let $Y_n = (U_1U_2 \\cdots U_n)^{\\frac{1}{n}}$ be the *geometric mean* of the sample. Show that when $n$ is large the distribution of $\\log(Y_n)$ is close to one of the famous ones, and provide its name and parameters.\n",
    "\n",
    "[Apply the result of Part **a**.]\n",
    "\n",
    "**c)** Let $Z$ be standard normal and let $W = e^Z$. Then $\\log(W) = Z$, that is, the log of $W$ has a normal distribution. That is why the distribution of $W$ is called *lognormal*. Find the cdf of $W$ in terms of the standard normal cdf $\\Phi$, and hence find the density of $W$ in terms of the standard normal density $\\phi$. State the possible values of $W$."
   ]
  },
  {
   "cell_type": "markdown",
   "metadata": {
    "#solution": false,
    "#staff": false,
    "#student": false
   },
   "source": [
    "#newpage"
   ]
  },
  {
   "cell_type": "markdown",
   "metadata": {
    "#solution": false,
    "#staff": false,
    "#student": false
   },
   "source": [
    "## Submission Instructions ##\n",
    "\n",
    "Many assignments throughout the course will have a written portion and a code portion. Please follow the directions below to properly submit both portions.\n",
    "\n",
    "### Written Portion ###\n",
    "*  Scan all the pages into a PDF. You can use any scanner or a phone using an application. Please **DO NOT** simply take pictures using your phone. \n",
    "* Please start a new page for each question. If you have already written multiple questions on the same page, you can crop the image or fold your page over (the old-fashioned way). This helps expedite grading.\n",
    "* It is your responsibility to check that all the work on all the scanned pages is legible.\n",
    "* If you used $\\LaTeX$ to do the written portions, you do not need to do any scanning; you can just download the whole notebook as a PDF via LaTeX.\n",
    "\n",
    "### Code Portion ###\n",
    "* Save your notebook using File > Save and Checkpoint.\n",
    "* Generate a PDF file using File > Download as > PDF via LaTeX. This might take a few seconds and will automatically download a PDF version of this notebook.\n",
    "    * If you have issues, please make a follow-up post on the general HW 7 Piazza thread.\n",
    "    \n",
    "### Submitting ###\n",
    "* Combine the PDFs from the written and code portions into one PDF.  [Here](https://smallpdf.com/merge-pdf) is a useful tool for doing so. \n",
    "* Submit the assignment to Homework 7 on Gradescope. \n",
    "* **Make sure to assign each page of your pdf to the correct question.**\n",
    "* **It is your responsibility to verify that all of your work shows up in your final PDF submission.**\n",
    "\n",
    "\n",
    "### **We will not grade assignments which do not have pages selected for each question.** "
   ]
  }
 ],
 "metadata": {
  "anaconda-cloud": {},
  "checksums": [
   "6ce01b983a25cd97178a7a36d4272478",
   "90cd0ce50c5c3667f81adb0d6dac6797",
   "9d93a53b436a73e85f4f6e22226d4f9f",
   "0cd16835f01a065038ef45c8ed1c297c",
   "a67860b275842bb5a9a2a312515548f9",
   "2d89df48af1cf0b5800da0a26afb5b57",
   "cff585c3a0e82c068d37a359c5421e6b",
   "3d402fd08e23cc257188ddc7326035f5",
   "4e6ef9f259d92228c55907bd2637a8f0",
   "579346ba3f3716dd0e9b5ac782d4afa4",
   "640061103a186fd26f59746dd4d6de57",
   "03a0d14f01a35c1986325433aeac8472",
   "018b0d65108fac54b825ad98c8a5e79d",
   "cab02a358089a5b08e32d024707e2029",
   "2932431df3ee1af38037a67311a002f8",
   "8bcf921818deebd84ff01e09bc1834fb",
   "640061103a186fd26f59746dd4d6de57",
   "3add4312e1e8ef1861b3db6b1d816e98",
   "640061103a186fd26f59746dd4d6de57",
   "5c78a4e0c676400722ee18894db31c72",
   "640061103a186fd26f59746dd4d6de57",
   "3b5ed8cd0c999c2c46b65d1b147a9cf5",
   "640061103a186fd26f59746dd4d6de57",
   "4d778deb8ceef852a62294979e3461e3"
  ],
  "kernelspec": {
   "display_name": "Python 3",
   "language": "python",
   "name": "python3"
  },
  "language_info": {
   "codemirror_mode": {
    "name": "ipython",
    "version": 3
   },
   "file_extension": ".py",
   "mimetype": "text/x-python",
   "name": "python",
   "nbconvert_exporter": "python",
   "pygments_lexer": "ipython3",
   "version": "3.7.4"
  },
  "number_of_pagebreaks": 5
 },
 "nbformat": 4,
 "nbformat_minor": 1
}
