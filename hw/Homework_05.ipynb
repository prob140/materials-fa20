{
 "cells": [
  {
   "cell_type": "markdown",
   "metadata": {
    "#solution": false,
    "#staff": false,
    "#student": false
   },
   "source": [
    "<table align=\"left\" style=\"border-style: hidden\" class=\"table\"> <tr><td class=\"col-md-2\"><img style=\"float\" src=\"http://prob140.org/assets/icon256.png\" alt=\"Prob140 Logo\" style=\"width: 120px;\"/></td><td><div align=\"left\"><h3 style=\"margin-top: 0;\">Probability for Data Science</h3><h4 style=\"margin-top: 20px;\">UC Berkeley, Fall 2020</h4><p>Ani Adhikari</p>CC BY-NC-SA 4.0</div></td></tr></table><!-- not in pdf -->\n",
    "\n",
    "This content is protected and may not be shared, uploaded, or distributed."
   ]
  },
  {
   "cell_type": "markdown",
   "metadata": {
    "#solution": false,
    "#staff": false,
    "#student": false
   },
   "source": [
    "# Homework 5 #"
   ]
  },
  {
   "cell_type": "markdown",
   "metadata": {
    "#solution": false,
    "#staff": false,
    "#student": false
   },
   "source": [
    "### Instructions\n",
    "\n",
    "Your homeworks have two components: a written portion and a portion that also involves code.  Written work should be completed on paper, and coding questions should be done in the notebook.  You are welcome to LaTeX your answers to the written portions, but staff will not be able to assist you with LaTeX related issues. It is your responsibility to ensure that both components of the homework are submitted completely and properly to Gradescope. Refer to the bottom of the notebook for submission instructions."
   ]
  },
  {
   "cell_type": "code",
   "execution_count": null,
   "metadata": {
    "#solution": false,
    "#staff": false,
    "#student": false
   },
   "outputs": [],
   "source": [
    "# Run this cell to set up your notebook\n",
    "\n",
    "# These lines make warnings go away\n",
    "import warnings\n",
    "warnings.filterwarnings('ignore')\n",
    "\n",
    "import numpy as np\n",
    "from scipy import stats\n",
    "from datascience import *\n",
    "from prob140 import *\n",
    "\n",
    "# These lines do some fancy plotting magic\n",
    "import matplotlib\n",
    "%matplotlib inline\n",
    "import matplotlib.pyplot as plt\n",
    "plt.style.use('fivethirtyeight')"
   ]
  },
  {
   "cell_type": "markdown",
   "metadata": {
    "#solution": false,
    "#staff": false,
    "#student": false
   },
   "source": [
    "## 1. Panda's Problem ##\n",
    "Every day, Panda the black-and-white cat comes to our house for food.\n",
    "Assume that every day:\n",
    "\n",
    "- We put the food out at the front door or at the back door, according to whether a $p$-coin lands heads or tails.\n",
    "\n",
    "- Panda arrives at the door at which it found the food the previous day; if the food is not there, Panda is disappointed and trudges to the other door to eat.\n",
    "\n",
    "**a)** Set up a four-state Markov Chain and find the long run expected proportion of days when Panda is disappointed.\n",
    "\n",
    "**b)** Suppose that yesterday Panda arrived at the front door and was not disappointed. What is the chance of the same thing happening today? What is your best guess for the chance of the same thing happening (Panda arriving at the front door and not being disappointed) one year from now, assuming that the process continues as described?\n",
    "\n",
    "**c)** Panda's strategy is to remember where the food was the previous day, and go to that door. Here are three other strategies that Panda might use:\n",
    "\n",
    "- Always go to the front door.\n",
    "\n",
    "- Always go to the back door.\n",
    "\n",
    "- Remember where the food was the previous day, and go to the other door.\n",
    "\n",
    "Compare each of these strategies to the strategy Panda uses: for what values of $p$ do these result in a lower expected proportion of days of disappointment?"
   ]
  },
  {
   "cell_type": "markdown",
   "metadata": {
    "#solution": false,
    "#staff": false,
    "#student": false
   },
   "source": [
    "#newpage\n",
    "### 2. Jump Up, Fall Down ###\n",
    "Consider a Markov Chain with state space $0, 1, 2, \\ldots, 12$ and transition behavior given by:\n",
    "- For $0 \\le i \\le 11$, the distribution of $X_{n+1}$ given $X_n = i$ is uniform on $i+1, i+2, \\ldots , 12$.\n",
    "- $P(12, 0) = 1$.\n",
    "\n",
    "**a)** Complete the cell below to construct the transition matrix of this chain and assign it to the name `jump_fall`."
   ]
  },
  {
   "cell_type": "code",
   "execution_count": null,
   "metadata": {
    "#solution": false,
    "#staff": false,
    "#student": true
   },
   "outputs": [],
   "source": [
    "#Answer to 4a\n",
    "\n",
    "s = np.arange(...)\n",
    "def transition_probs(i, j):\n",
    "    ...\n",
    "jump_fall_tbl = Table()....\n",
    "jump_fall = jump_fall_tbl...\n",
    "jump_fall"
   ]
  },
  {
   "cell_type": "markdown",
   "metadata": {
    "#solution": false,
    "#staff": false,
    "#student": false
   },
   "source": [
    "**b)** Explain why this chain is irreducible and aperiodic.\n"
   ]
  },
  {
   "cell_type": "markdown",
   "metadata": {
    "#solution": false,
    "#staff": false,
    "#student": false
   },
   "source": [
    "**c)** Write code that uses `jump_fall` and `prob140` methods so that the final line evaluates to the expected long run proportion of time the chain spends at 0."
   ]
  },
  {
   "cell_type": "code",
   "execution_count": null,
   "metadata": {
    "#solution": false,
    "#staff": false,
    "#student": true
   },
   "outputs": [],
   "source": [
    "#Answer to 4c\n",
    "..."
   ]
  },
  {
   "cell_type": "markdown",
   "metadata": {
    "#solution": false,
    "#staff": false,
    "#student": false
   },
   "source": [
    "#newpage"
   ]
  },
  {
   "cell_type": "markdown",
   "metadata": {
    "#solution": false,
    "#staff": false,
    "#student": false
   },
   "source": [
    "### 3. Switching Chain ###\n",
    "Consider a Markov Chain $X_0, X_1, \\ldots $ with the transition matrix given below, for some $0 < p < 1$ and $q = 1-p$.\n",
    "\n",
    "|    -| $~~0~~$ | $~~1~~$ |\n",
    "|-----|-----|-----|\n",
    "| $~~0~~$ | $~~p~~$ | $~~q~~$ |\n",
    "| $~~1~~$ | $~~q~~$ | $~~p~~$ |\n",
    "\n",
    "**a)** For $n \\ge 1$, let $C_n$ be the number of *switches* up to time $n$. That is, $C_n$ is the number of times the chain changes state up to and including time $n$. For example, if the path is 0 0 0 1 0 0 0 1 1, then $C_8 = 3$ (remember that the path starts at $X_0$). What is the distribution of $C_n$, and why?\n",
    "\n",
    "**b)** Fill in the blank with a word: For $n \\ge 1$, \n",
    "$$\n",
    "P_n(0, 0) ~ = ~ P(C_n \\text{ is } \\underline{ ~~~~~~~~~~~~~~~ })\n",
    "$$\n",
    "\n",
    "**c)** Now find $P_n(0, 0)$ using Part **b**. [Hint: Compare the expansions of $(p+q)^n$ and $(p-q)^n$. How can you use both of them to get just the terms that you need?] \n",
    "\n",
    "**d)** Use Part **c** (not the balance equations) to find the stationary distribution of the chain."
   ]
  },
  {
   "cell_type": "markdown",
   "metadata": {
    "#solution": false,
    "#staff": false,
    "#student": false
   },
   "source": [
    "#newpage"
   ]
  },
  {
   "cell_type": "markdown",
   "metadata": {
    "#solution": false,
    "#staff": false,
    "#student": false
   },
   "source": [
    "## 4. A Reflecting Walk ##\n",
    "\n",
    "Let $N$ be a positive integer. Consider a Markov Chain $X_0, X_1, X_2, \\ldots $\n",
    "with state space consisting of the integers $ \\{-N, -N+1, \\ldots , -1, 0, 1, \\ldots, N-1, N\\}$ and transition matrix given by:\n",
    "\n",
    "- $P(-N, -N) = 1/3$ and $P(-N, -N+1) = 2/3$\n",
    "- For $-N + 1 \\leq i \\leq -1$, $P(i, i-1) = 1/3$ and $P(i, i+1) = 2/3$\n",
    "- $P(0, -1) = P(0, 0) = P(0, 1) = 1/3$\n",
    "- For $1 \\leq i \\leq N-1$, $P(i, i-1) = 2/3$ and $P(i, i+1) = 1/3 $\n",
    "- $P(N, N-1) = 2/3$ and $P(N, N) = 1/3$\n",
    "\n",
    "**a)** Does the chain have detailed balance? Explain briefly.\n",
    "\n",
    "**b)** Find the long run expected proportion of time the chain spends at $0$."
   ]
  },
  {
   "cell_type": "markdown",
   "metadata": {
    "#solution": false,
    "#staff": false,
    "#student": false
   },
   "source": [
    "## Submission Instructions ##\n",
    "\n",
    "Many assignments throughout the course will have a written portion and a code portion. Please follow the directions below to properly submit both portions.\n",
    "\n",
    "### Written Portion ###\n",
    "*  Scan all the pages into a PDF. You can use any scanner or a phone using an application. Please **DO NOT** simply take pictures using your phone. \n",
    "* Please start a new page for each question. If you have already written multiple questions on the same page, you can crop the image or fold your page over (the old-fashioned way). This helps expedite grading.\n",
    "* It is your responsibility to check that all the work on all the scanned pages is legible.\n",
    "\n",
    "### Code Portion ###\n",
    "* Save your notebook using File > Save and Checkpoint.\n",
    "* Generate a PDF file using File > Download as > PDF via LaTeX. This might take a few seconds and will automatically download a PDF version of this notebook.\n",
    "    * If you have issues, please make a follow-up post on the general HW 5 Piazza thread.\n",
    "    \n",
    "### Submitting ###\n",
    "* Combine the PDFs from the written and code portions into one PDF.  [Here](https://smallpdf.com/merge-pdf) is a useful tool for doing so. \n",
    "* Submit the assignment to Homework 5 on Gradescope. \n",
    "* **Make sure to assign each page of your pdf to the correct question.**\n",
    "* **It is your responsibility to verify that all of your work shows up in your final PDF submission.**\n",
    "\n",
    "\n",
    "### **We will not grade assignments which do not have pages selected for each question.** "
   ]
  },
  {
   "cell_type": "code",
   "execution_count": null,
   "metadata": {
    "#solution": false,
    "#staff": false,
    "#student": false
   },
   "outputs": [],
   "source": []
  }
 ],
 "metadata": {
  "anaconda-cloud": {},
  "checksums": [
   "6ce01b983a25cd97178a7a36d4272478",
   "54d2b808529b8f055694b8ea1e601f78",
   "617e9d925b5fe2cd6a35fdd67bbdf752",
   "0cd16835f01a065038ef45c8ed1c297c",
   "40a5b7271a8f70037c0d6c5ae504f080",
   "c7681cab20d1ade0e82cbc6b99138926",
   "226288f9e40fa3be50bb8546695dbf15",
   "2e8f43a7507820f822363bae6db2411e",
   "882649e60b618802431dd44940b3d07d",
   "18e86b243b56f8d475235678b32fda4a",
   "640061103a186fd26f59746dd4d6de57",
   "d07e69426e4e0b6f3783cd09e89eaa23",
   "640061103a186fd26f59746dd4d6de57",
   "6e32e8b391a5df6c6e01506bc73ebeab",
   "41c56b81f537a32368a98f7fc3a48ba1",
   "d41d8cd98f00b204e9800998ecf8427e"
  ],
  "kernelspec": {
   "display_name": "Python 3",
   "language": "python",
   "name": "python3"
  },
  "language_info": {
   "codemirror_mode": {
    "name": "ipython",
    "version": 3
   },
   "file_extension": ".py",
   "mimetype": "text/x-python",
   "name": "python",
   "nbconvert_exporter": "python",
   "pygments_lexer": "ipython3",
   "version": "3.7.3"
  },
  "number_of_pagebreaks": 3
 },
 "nbformat": 4,
 "nbformat_minor": 1
}
