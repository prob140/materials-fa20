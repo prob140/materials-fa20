{
 "cells": [
  {
   "cell_type": "markdown",
   "metadata": {},
   "source": [
    "<table align=\"left\" style=\"border-style: hidden\" class=\"table\"> <tr><td class=\"col-md-2\"><img style=\"float\" src=\"http://prob140.org/assets/icon256.png\" alt=\"Prob140 Logo\" style=\"width: 120px;\"/></td><td><div align=\"left\"><h3 style=\"margin-top: 0;\">Probability for Data Science</h3><h4 style=\"margin-top: 20px;\">UC Berkeley, Fall 2020</h4><p>Ani Adhikari and Jim Pitman</p>CC BY-NC 4.0</div></td></tr></table><!-- not in pdf -->"
   ]
  },
  {
   "cell_type": "markdown",
   "metadata": {
    "#solution": false,
    "#staff": false,
    "#student": false
   },
   "source": [
    "# Homework 11"
   ]
  },
  {
   "cell_type": "markdown",
   "metadata": {
    "#solution": false,
    "#staff": false,
    "#student": false
   },
   "source": [
    "### Instructions\n",
    "\n",
    "Your homeworks have two components: a written portion and a portion that also involves code.  Written work should be completed on paper, and coding questions should be done in the notebook.  You are welcome to $\\LaTeX$ your answers to the written portions, but staff will not be able to assist you with $\\LaTeX$ related issues. It is your responsibility to ensure that both components of the homework are submitted completely and properly to Gradescope. Refer to the bottom of the notebook for submission instructions."
   ]
  },
  {
   "cell_type": "code",
   "execution_count": null,
   "metadata": {
    "#solution": false,
    "#staff": false,
    "#student": false
   },
   "outputs": [],
   "source": [
    "import warnings\n",
    "warnings.filterwarnings('ignore')\n",
    "from datascience import *\n",
    "from prob140 import *\n",
    "import numpy as np\n",
    "import matplotlib.pyplot as plt\n",
    "plt.style.use('fivethirtyeight')\n",
    "%matplotlib inline\n",
    "from scipy import stats"
   ]
  },
  {
   "cell_type": "markdown",
   "metadata": {
    "#solution": false,
    "#staff": false,
    "#student": false
   },
   "source": [
    "## 1. Correlated-Uncorrelated Transformations ##\n",
    "\n",
    "You know (see the end of Section 23.1) that every covariance matrix is positive semidefinite. Consider a random vector that has a positive definite covariance matrix instead of just positive semidefinite.\n",
    "\n",
    "In this exercise you will show how any such random vector can be written as a linear transformation of a random vector that has uncorrelated components. In the process, you will also show that any positive definite matrix is the covariance matrix of some random vector.\n",
    "\n",
    "You will need (but don't have to prove) the following important general result about positive definite matrices. If $\\mathbf{M}$ is a positive definite matrix, then $\\mathbf{M} = \\mathbf{LL}^T$ where $\\mathbf{L}$ is a lower triangular matrix with positive diagonal entries and is hence invertible. This is called the *Cholesky decomposition*. See the end of Section 23.2 for another use of this decomposition.\n",
    "\n",
    "(a) Let $\\boldsymbol{\\Sigma}$ be any positive definite matrix. Construct a random vector $\\mathbf{Y}$ such that $\\boldsymbol{\\Sigma}$ is the covariance matrix of $\\mathbf{Y}$.\n",
    "\n",
    "[Start with any random vector that has the identity matrix as its covariance matrix. Use the Cholesky decomposition to construct the answer as an appropriate linear transformation of this vector.]\n",
    "\n",
    "(b) Let a random vector $\\mathbf{Y}$ have a positive definite covariance matrix $\\boldsymbol{\\Sigma}$. Show that $\\mathbf{Y}$ can be written as a linear transformation of a random vector $\\mathbf{X}$ that has uncorrelated entries all of which have variance $1$."
   ]
  },
  {
   "cell_type": "markdown",
   "metadata": {
    "#solution": false,
    "#staff": false,
    "#student": false
   },
   "source": [
    "#newpage"
   ]
  },
  {
   "cell_type": "markdown",
   "metadata": {
    "#solution": false,
    "#staff": false,
    "#student": false
   },
   "source": [
    "### 2. Midterms 1 and 2 ###\n",
    "\n",
    "In a large class, the distribution of scores in Midterms 1 and 2 is approximately bivariate normal. Define the following notation.\n",
    "\n",
    "- For $i = 1, 2$, $\\mu_i$ is the class average on Midterm $i$, and $\\sigma_i^2$ is the class variance on Midterm $i$\n",
    "- The correlation between Midterm 1 and 2 scores in the class is $\\rho$\n",
    "\n",
    "(a) For approximately what proportion of the students was the Midterm 2 score (in standard units) higher than the Midterm 1 score (in standard units)?\n",
    "\n",
    "(b) For approximately what proportion of the students did the two midterm scores (each in standard units) differ by more than 1?"
   ]
  },
  {
   "cell_type": "markdown",
   "metadata": {
    "#solution": false,
    "#staff": false,
    "#student": false
   },
   "source": [
    "#newpage"
   ]
  },
  {
   "cell_type": "markdown",
   "metadata": {
    "#solution": false,
    "#staff": false,
    "#student": false
   },
   "source": [
    "### 3. 2017 SAT Scores, Part 1 ###\n",
    "The College Board presents an [annual report](https://reports.collegeboard.org/pdf/2017-total-group-sat-suite-assessments-annual-report.pdf) about participation and performance in the SAT. The 2017 SAT had two parts: Evidence-Based Reading and Writing (ERW) and Math. It is generally believed that the joint distribution of ERW and Math scores of test-takers in any given year is roughly bivariate normal. This can only be a rough approximation because SAT scores aren't continuous variables. But let's make a lazy choice for this exercise: pretend that SAT scores are continuous and that the approximation is exact.\n",
    "\n",
    "So assume that for the 2017 test-takers in the United States, the joint distribution of ERW and Math scores is bivariate normal. The College Board provides the following summary statistics.\n",
    "\n",
    "- ERW: Mean 533, SD 100\n",
    "- Math: Mean 527, SD 107\n",
    "- Total: Mean 1060, SD 195\n",
    "\n",
    "Let $R$ be the ERW score and $M$ the math score of a test-taker picked at random.\n",
    "\n",
    "**a)** Find the correlation $r(R, M)$."
   ]
  },
  {
   "cell_type": "code",
   "execution_count": null,
   "metadata": {
    "#solution": false,
    "#staff": false,
    "#student": true
   },
   "outputs": [],
   "source": [
    "# Answer to 3a\n",
    "var_R = ...\n",
    "var_M = ...\n",
    "var_T = ...\n",
    "r = ...\n",
    "r"
   ]
  },
  {
   "cell_type": "markdown",
   "metadata": {
    "#solution": false,
    "#staff": false,
    "#student": false
   },
   "source": [
    "**b)** Plot the joint density surface of $R$ and $M$. The call is `Plot_bivariate_normal(mu, cov)` where the mean vector `mu` is a list and the covariance matrix `cov` is a list of lists specifying the rows."
   ]
  },
  {
   "cell_type": "code",
   "execution_count": null,
   "metadata": {
    "#solution": false,
    "#staff": false,
    "#student": true
   },
   "outputs": [],
   "source": [
    "# Answer to 3b\n",
    "mu = ...\n",
    "cov_RM = ...\n",
    "cov = [...]\n",
    "Plot_bivariate_normal(..., ..., figsize =(6,6))"
   ]
  },
  {
   "cell_type": "markdown",
   "metadata": {
    "#solution": false,
    "#staff": false,
    "#student": false
   },
   "source": [
    "**c) [WRITTEN & CODE]** Let $T = R+M$. In the code cell below, plot the joint density surface of $M$ and $T$. Use as many lines of code as you need. **On paper, explain** your choice of density, and say what you notice about the plot."
   ]
  },
  {
   "cell_type": "code",
   "execution_count": null,
   "metadata": {
    "#solution": false,
    "#staff": false,
    "#student": true
   },
   "outputs": [],
   "source": [
    "# Answer to 3c\n",
    "..."
   ]
  },
  {
   "cell_type": "markdown",
   "metadata": {
    "#solution": false,
    "#staff": false,
    "#student": false
   },
   "source": [
    "**d)** Write a code expression that evaluates to $r(M, T)$. In the comment, explain why it's high. "
   ]
  },
  {
   "cell_type": "code",
   "execution_count": null,
   "metadata": {
    "#solution": false,
    "#staff": false,
    "#student": true
   },
   "outputs": [],
   "source": [
    "# Answer to 3d\n",
    "\"\"\"r(M, T) is high because ...\"\"\"\n",
    "..."
   ]
  },
  {
   "cell_type": "markdown",
   "metadata": {
    "#solution": false,
    "#staff": false,
    "#student": false
   },
   "source": [
    "#newpage"
   ]
  },
  {
   "cell_type": "markdown",
   "metadata": {
    "#solution": false,
    "#staff": false,
    "#student": false
   },
   "source": [
    "### 4. 2017 SAT Scores, Part 2 ###\n",
    "This exercise continues the previous one. Please make the same assumptions as before. In your math and code you can use any quantity that has already been defined.\n",
    "\n",
    "As in the previous exercise, the parts below refer to the scores of a test-taker picked at random."
   ]
  },
  {
   "cell_type": "markdown",
   "metadata": {
    "#solution": false,
    "#staff": false,
    "#student": false
   },
   "source": [
    "**a)** Write an expression that evaluates to the chance that the total score is greater than 1500."
   ]
  },
  {
   "cell_type": "code",
   "execution_count": null,
   "metadata": {
    "#solution": false,
    "#staff": false,
    "#student": true
   },
   "outputs": [],
   "source": [
    "# Answer to 4a\n",
    "\n",
    "..."
   ]
  },
  {
   "cell_type": "markdown",
   "metadata": {
    "#solution": false,
    "#staff": false,
    "#student": false
   },
   "source": [
    "**b) [WRITTEN & CODE]** In terms of the standard normal cdf $\\Phi$, what is the chance that the student scored higher on ERW than on Math? Answer this on paper (show your work) and then use the code cell below to find the numerical value. Use as many lines of code as you need. The last expression should evaluate to the proportion."
   ]
  },
  {
   "cell_type": "code",
   "execution_count": null,
   "metadata": {
    "#solution": false,
    "#staff": false,
    "#student": true
   },
   "outputs": [],
   "source": [
    "# Answer to 4b\n",
    "..."
   ]
  },
  {
   "cell_type": "markdown",
   "metadata": {
    "#solution": false,
    "#staff": false,
    "#student": false
   },
   "source": [
    "**c)** Write a code expression that evaluates to the chance that the ERW and Math scores were more than 100 points apart. As before, your expression can involve quantities defined in earlier parts."
   ]
  },
  {
   "cell_type": "code",
   "execution_count": null,
   "metadata": {
    "#solution": false,
    "#staff": false,
    "#student": true
   },
   "outputs": [],
   "source": [
    "# Answer to 4c\n",
    "..."
   ]
  },
  {
   "cell_type": "markdown",
   "metadata": {
    "#solution": false,
    "#staff": false,
    "#student": false
   },
   "source": [
    "#newpage"
   ]
  },
  {
   "cell_type": "markdown",
   "metadata": {
    "#solution": false,
    "#staff": false,
    "#student": false
   },
   "source": [
    "### 5. Normals and Coins ###\n",
    "\n",
    "Let $X$ be standard normal. Construct a random variable $Y$ as follows:\n",
    "\n",
    "- Toss a fair coin.\n",
    "- If the coin lands heads, let $Y = X$.\n",
    "- If the coin lands tails, let $Y = -X$.\n",
    "\n",
    "(a) Find the cdf of $Y$ and hence identify the distribution of $Y$.\n",
    "\n",
    "(b) Find $E(XY)$ by conditioning on the result of the toss.\n",
    "\n",
    "(c) Are $X$ and $Y$ uncorrelated? \n",
    "\n",
    "(d) Are $X$ and $Y$ independent?\n",
    "\n",
    "(e) Is the joint distribution of $X$ and $Y$ bivariate normal?"
   ]
  },
  {
   "cell_type": "markdown",
   "metadata": {
    "#solution": false,
    "#staff": false,
    "#student": false
   },
   "source": [
    "## Submission Instructions ##\n",
    "\n",
    "Many assignments throughout the course will have a written portion and a code portion. Please follow the directions below to properly submit both portions.\n",
    "\n",
    "### Written Portion ###\n",
    "*  Scan all the pages into a PDF. You can use any scanner or a phone using an application. Please **DO NOT** simply take pictures using your phone. \n",
    "* Please start a new page for each question. If you have already written multiple questions on the same page, you can crop the image or fold your page over (the old-fashioned way). This helps expedite grading.\n",
    "* It is your responsibility to check that all the work on all the scanned pages is legible.\n",
    "* If you used $\\LaTeX$ to do the written portions, you do not need to do any scanning; you can just download the whole notebook as a PDF via LaTeX.\n",
    "\n",
    "### Code Portion ###\n",
    "* Save your notebook using File > Save and Checkpoint.\n",
    "* Generate a PDF file using File > Download as > PDF via LaTeX. This might take a few seconds and will automatically download a PDF version of this notebook.\n",
    "    * If you have issues, please make a follow-up post on the general HW 11 Piazza thread.\n",
    "    \n",
    "### Submitting ###\n",
    "* Combine the PDFs from the written and code portions into one PDF.  [Here](https://smallpdf.com/merge-pdf) is a useful tool for doing so. \n",
    "* Submit the assignment to Homework 11 on Gradescope. \n",
    "* **Make sure to assign each page of your pdf to the correct question.**\n",
    "* **It is your responsibility to verify that all of your work shows up in your final PDF submission.**\n",
    "\n",
    "\n",
    "### **We will not grade assignments which do not have pages selected for each question.** "
   ]
  }
 ],
 "metadata": {
  "checksums": [
   "f55a7e1c90e2595b233c3956a2783786",
   "e40bfa06d3c75ac911f4d78deb52e131",
   "9d93a53b436a73e85f4f6e22226d4f9f",
   "d2bc52a66d36638ea8706790450f5f58",
   "7cd079cb7b04079e9d6a29a1e6455d49",
   "640061103a186fd26f59746dd4d6de57",
   "d732e862176cc6e23f6c3f4135a24ad8",
   "640061103a186fd26f59746dd4d6de57",
   "571dbaa620bc88b291f2f20b7270142c",
   "460ea3f153f82fda87d7a618e6ea3b51",
   "c45d83218238c477944a2156a130ca4b",
   "20372bbceafe6ef8b7c3b44130d352d4",
   "e4ca7ec3ec2d27419b1fe2565130f4e2",
   "236864de9594b7ba28b1fbb825b921d1",
   "8bfe4da9de2bf9790de590c9dfa33ff5",
   "772157bd1c80f90ae6a8feae501f26d4",
   "640061103a186fd26f59746dd4d6de57",
   "0e7e8897a7843f08d34565fb665656de",
   "4f0b057dc60197d746a6da35525bb85a",
   "591cf96667cd83a22318b53b5a0b817b",
   "e3156c9bb65fe267a54f50b8ccc07a34",
   "3751374e530e1cf4b94d900ff27625e1",
   "6f11a241bde08d9b7ee34be5c3825f6f",
   "18e86b243b56f8d475235678b32fda4a",
   "640061103a186fd26f59746dd4d6de57",
   "873cd882cfadc831a1c4f6678aa75365",
   "c2549501b7c5ef8a1f61ec947b56a25a"
  ],
  "kernelspec": {
   "display_name": "Python 3",
   "language": "python",
   "name": "python3"
  },
  "language_info": {
   "codemirror_mode": {
    "name": "ipython",
    "version": 3
   },
   "file_extension": ".py",
   "mimetype": "text/x-python",
   "name": "python",
   "nbconvert_exporter": "python",
   "pygments_lexer": "ipython3",
   "version": "3.8.1"
  },
  "number_of_pagebreaks": 4
 },
 "nbformat": 4,
 "nbformat_minor": 2
}
