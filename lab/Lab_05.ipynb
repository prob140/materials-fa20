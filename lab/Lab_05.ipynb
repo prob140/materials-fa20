{
 "cells": [
  {
   "cell_type": "markdown",
   "metadata": {},
   "source": [
    "<table align=\"left\" style=\"border-style: hidden\" class=\"table\"> <tr><td class=\"col-md-2\"><img style=\"float\" src=\"http://prob140.org/assets/icon256.png\" alt=\"Prob140 Logo\" style=\"width: 120px;\"/></td><td><div align=\"left\"><h3 style=\"margin-top: 0;\">Probability for Data Science</h3><h4 style=\"margin-top: 20px;\">UC Berkeley, Fall 2020</h4><p>Ani Adhikari and Jim Pitman</p>CC BY-NC 4.0</div></td></tr></table><!-- not in pdf -->"
   ]
  },
  {
   "cell_type": "code",
   "execution_count": null,
   "metadata": {
    "#solution": false,
    "#staff": false,
    "#student": false
   },
   "outputs": [],
   "source": [
    "from datascience import *\n",
    "from prob140 import *\n",
    "import numpy as np\n",
    "%matplotlib inline\n",
    "import matplotlib.pyplot as plt\n",
    "plt.style.use('fivethirtyeight')"
   ]
  },
  {
   "cell_type": "markdown",
   "metadata": {
    "#solution": false,
    "#staff": false,
    "#student": false
   },
   "source": [
    "# Lab 5: Densities and `SymPy` #\n",
    "When you work with densities there is often some calculus involved. Sometimes, recognizing integrals as probabilistic quantities (probabilities, expectations, and so on) can help reduce the calculus. \n",
    "\n",
    "But sometimes you just have to crank out the calculus. This can occasionally be messy. It would be nice to have some help. Fortunately, Python can help.\n",
    "\n",
    "The `SymPy` library is a set of tools that help you do symbolic math on the computer. To see what this means, let's start with a simple numerical calculation of a familiar sort."
   ]
  },
  {
   "cell_type": "code",
   "execution_count": null,
   "metadata": {
    "#solution": false,
    "#staff": false,
    "#student": false
   },
   "outputs": [],
   "source": [
    "x = 3\n",
    "(2 * x + 1) ** 2"
   ]
  },
  {
   "cell_type": "markdown",
   "metadata": {
    "#solution": false,
    "#staff": false,
    "#student": false
   },
   "source": [
    "What you can do in `SymPy`, assuming that you have explained to `SymPy` that $x$ is a symbol, is to have `(2*x + 1) ** 2` appear as $(2x + 1)^2$. You can then expand it to get $4x^2 + 4x + 1$. `SymPy` does the math that you did long ago in algebra class, and renders the math in symbols. It gives you an exact symbolic answer, instead of numerical answer (that is often an approximation) in a particular case.\n",
    "\n",
    "`SymPy` contains a large number of mathematical functions and operations, including integration and differentiation. This can be very handy when working with densities.\n",
    "\n",
    "What you will learn in this lab:\n",
    "\n",
    "- How to use `SymPy`\n",
    "- How `SymPy` can help you understand properties of random variables that have densities\n",
    "- How to implement the theory of densities (Parts 1-3) including change of variable\n",
    "- How to implement the theory of joint densities (Part 4) including conditioning on continuous variables\n",
    "\n",
    "This lab is intended not only to guide you through symbolic math on `SymPy` but also to develop your skills for working with densities. Pay close attention to each of the questions in Parts 2-5 as they will help you grasp the theory of continuous random variables."
   ]
  },
  {
   "cell_type": "markdown",
   "metadata": {
    "#solution": false,
    "#staff": false,
    "#student": false
   },
   "source": [
    "### Getting Started ###\n",
    "We must import the library and add a line of code that makes the math appear in the way that it appears in the Prob 140 [textbook](http://prob140.org/textbook/content/README.html)."
   ]
  },
  {
   "cell_type": "code",
   "execution_count": null,
   "metadata": {
    "#solution": false,
    "#staff": false,
    "#student": false
   },
   "outputs": [],
   "source": [
    "from sympy import *\n",
    "init_printing()"
   ]
  },
  {
   "cell_type": "markdown",
   "metadata": {
    "#solution": false,
    "#staff": false,
    "#student": false
   },
   "source": [
    "Before you begin, it is **strongly recommended** that you skim [Section 15.5](http://prob140.org/textbook/content/Chapter_15/05_Calculus_in_SymPy.html) (Calculus in SymPy) of the textbook. It will give you a good sense of what you will do in the lab, and might help you answer some of the questions."
   ]
  },
  {
   "cell_type": "markdown",
   "metadata": {
    "#solution": false,
    "#staff": false,
    "#student": false
   },
   "source": [
    "## Instructions\n",
    "Your labs have two components: a written portion and a portion that also involves code. Written work should be completed on paper, and coding questions should be done in the notebook. You are welcome to LaTeX your answers to the written portions, but staff will not be able to assist you with LaTeX related issues. It is your responsibility to ensure that both components of the lab are submitted completely and properly to Gradescope. Refer to the bottom of the notebook for submission instructions."
   ]
  },
  {
   "cell_type": "markdown",
   "metadata": {
    "#solution": false,
    "#staff": false,
    "#student": false
   },
   "source": [
    "#newpage \n",
    "\n",
    "## Part 1: The Operations ##\n",
    "We will start with simple examples of the basic operations and syntax. For more, take a look at the [SymPy Tutorial](https://docs.sympy.org/latest/tutorial/index.html)."
   ]
  },
  {
   "cell_type": "markdown",
   "metadata": {
    "#solution": false,
    "#staff": false,
    "#student": false
   },
   "source": [
    "### 1a) Creating a Symbolic Variable ###\n",
    "\n",
    "You are used to assigning names to numbers, arrays, and so on. In `SymPy`, we create a symbol using `Symbol`. Its required argument is a string that contains the symbol we want to use. We can assign that to a name, just as we have done before."
   ]
  },
  {
   "cell_type": "code",
   "execution_count": null,
   "metadata": {
    "#solution": false,
    "#staff": false,
    "#student": false
   },
   "outputs": [],
   "source": [
    "# Create a symbol\n",
    "\n",
    "x = Symbol('x')\n",
    "x"
   ]
  },
  {
   "cell_type": "markdown",
   "metadata": {
    "#solution": false,
    "#staff": false,
    "#student": false
   },
   "source": [
    "### 1b) Constructing a Symbolic Expression ###\n",
    "\n",
    "Consider the math function $f(x) ~ = ~ 2x + 1$. We can create a `SymPy` expression equal to the right hand side, as follows."
   ]
  },
  {
   "cell_type": "code",
   "execution_count": null,
   "metadata": {
    "#solution": false,
    "#staff": false,
    "#student": false
   },
   "outputs": [],
   "source": [
    "# An expression that is the right hand side\n",
    "# of the definition of f(x)\n",
    "\n",
    "2*x + 1"
   ]
  },
  {
   "cell_type": "code",
   "execution_count": null,
   "metadata": {
    "#solution": false,
    "#staff": false,
    "#student": false
   },
   "outputs": [],
   "source": [
    "# Name the expression and display it\n",
    "\n",
    "f = 2*x + 1\n",
    "f"
   ]
  },
  {
   "cell_type": "markdown",
   "metadata": {
    "#solution": false,
    "#staff": false,
    "#student": false
   },
   "source": [
    "It is important to make a distinction between the math function $f$ and the `SymPy` expression `f`. Though `f` doesn't have an $x$ in the name, it is equal to $f(x)$, the math function $f$ evaluated at the point $x$.\n",
    "\n",
    "You can create new expressions by using math operations."
   ]
  },
  {
   "cell_type": "code",
   "execution_count": null,
   "metadata": {
    "#solution": false,
    "#staff": false,
    "#student": false
   },
   "outputs": [],
   "source": [
    "f ** 2"
   ]
  },
  {
   "cell_type": "markdown",
   "metadata": {
    "#solution": false,
    "#staff": false,
    "#student": false
   },
   "source": [
    "You can ask `SymPy` to expand the square, to get an equivalent expression."
   ]
  },
  {
   "cell_type": "code",
   "execution_count": null,
   "metadata": {
    "#solution": false,
    "#staff": false,
    "#student": false
   },
   "outputs": [],
   "source": [
    "expand(f ** 2)"
   ]
  },
  {
   "cell_type": "markdown",
   "metadata": {
    "#solution": false,
    "#staff": false,
    "#student": false
   },
   "source": [
    "### 1c) Evaluating an Expression at a Point ###\n",
    "\n",
    "To evaluate $f(5)$ in math, we have take the expression $2x + 1$ and substitute the generic $x$ with the specific value $5$. So also in `SymPy`, we evaluate the symbolic expression `f` at the point 5 by using substitution."
   ]
  },
  {
   "cell_type": "code",
   "execution_count": null,
   "metadata": {
    "#solution": false,
    "#staff": false,
    "#student": false
   },
   "outputs": [],
   "source": [
    "# Evaluate the expression at the point x = 5\n",
    "\n",
    "f.subs(x, 5)"
   ]
  },
  {
   "cell_type": "markdown",
   "metadata": {
    "#solution": false,
    "#staff": false,
    "#student": false
   },
   "source": [
    "Points themselves can be symbols. For example, `SymPy` recognizes `pi` as $\\pi$. So we can evaluate the function $f$ at $\\pi$:"
   ]
  },
  {
   "cell_type": "code",
   "execution_count": null,
   "metadata": {
    "#solution": false,
    "#staff": false,
    "#student": false
   },
   "outputs": [],
   "source": [
    "f.subs(x, pi)"
   ]
  },
  {
   "cell_type": "markdown",
   "metadata": {
    "#solution": false,
    "#staff": false,
    "#student": false
   },
   "source": [
    "You can see that `SymPy` makes choices about exactly how to display expressions. All symbolic math systems make such decisions, but not always in the same way. \n",
    "\n",
    "It is important to notice the difference between symbolic and numeric calculations such as those you perform using `NumPy`. For example, recall that `np.pi` is the `NumPy` expression for $\\pi$, and run the cell below. "
   ]
  },
  {
   "cell_type": "code",
   "execution_count": null,
   "metadata": {
    "#solution": false,
    "#staff": false,
    "#student": false
   },
   "outputs": [],
   "source": [
    "f.subs(x, pi), f.subs(x, np.pi)"
   ]
  },
  {
   "cell_type": "markdown",
   "metadata": {
    "#solution": false,
    "#staff": false,
    "#student": false
   },
   "source": [
    "An important aspect of the distinction is that the first expression is exact while the numerical calculation results in an approximate value."
   ]
  },
  {
   "cell_type": "markdown",
   "metadata": {
    "#solution": false,
    "#staff": false,
    "#student": false
   },
   "source": [
    "### 1d) Integration ###\n",
    "Integration is one of the most important operations in probability. If a random variable $X$ has a density $f_X$, then $P(a < X < b) = \\int_a^bf_X(x)dx$, $E(X) = \\int_{-\\infty}^\\infty xf_X(x)dx$ (assuming the integral exists), and so on.\n",
    "\n",
    "Let's learn how to integrate functions using `SymPy`.\n",
    "\n",
    "The indefinite integral $\\int f(x)dx$ can be displayed using `Integral(f)`."
   ]
  },
  {
   "cell_type": "code",
   "execution_count": null,
   "metadata": {
    "#solution": false,
    "#staff": false,
    "#student": false
   },
   "outputs": [],
   "source": [
    "# Display the indefinite integral\n",
    "\n",
    "Integral(f)"
   ]
  },
  {
   "cell_type": "markdown",
   "metadata": {
    "#solution": false,
    "#staff": false,
    "#student": false
   },
   "source": [
    "That's nice, but it would be even nicer if `SymPy` could actually do the integral, not just show it to us.\n",
    "\n",
    "To make this happen, we are going to be a bit rude. We are going to tell `SymPy` to just `doit()`."
   ]
  },
  {
   "cell_type": "code",
   "execution_count": null,
   "metadata": {
    "#solution": false,
    "#staff": false,
    "#student": false
   },
   "outputs": [],
   "source": [
    "# Evaluate the indefinite integral\n",
    "\n",
    "Integral(f).doit()"
   ]
  },
  {
   "cell_type": "markdown",
   "metadata": {
    "#solution": false,
    "#staff": false,
    "#student": false
   },
   "source": [
    "This creates a new `SymPy` expression, which you can assign to a name as usual."
   ]
  },
  {
   "cell_type": "code",
   "execution_count": null,
   "metadata": {
    "#solution": false,
    "#staff": false,
    "#student": false
   },
   "outputs": [],
   "source": [
    "F = Integral(f).doit()\n",
    "F"
   ]
  },
  {
   "cell_type": "markdown",
   "metadata": {
    "#solution": false,
    "#staff": false,
    "#student": false
   },
   "source": [
    "Definite integrals can be calculated in two ways, corresponding to the left and right hand sides of the example below.\n",
    "\n",
    "$$\n",
    "\\int_3^7 f(x)dx ~ = ~ F(7) - F(3)\n",
    "$$\n",
    "\n",
    "You already know how to compute the right hand side using substitution and the expression representing the indefinite integral."
   ]
  },
  {
   "cell_type": "code",
   "execution_count": null,
   "metadata": {
    "#solution": false,
    "#staff": false,
    "#student": false
   },
   "outputs": [],
   "source": [
    "# right hand side\n",
    "\n",
    "F.subs(x, 7) - F.subs(x, 3)"
   ]
  },
  {
   "cell_type": "markdown",
   "metadata": {
    "#solution": false,
    "#staff": false,
    "#student": false
   },
   "source": [
    "To display a definite integral, `Integral` requires an additional argument that specifies the variable being integrated and the two limits of integration: \n",
    "\n",
    "- (variable_name, lower_limit, upper_limit)\n",
    "\n",
    "At the moment we are working with a function of just one variable, so it seems unnecessary to provide the name of the variable. But the name will become important as soon as we start double integration."
   ]
  },
  {
   "cell_type": "code",
   "execution_count": null,
   "metadata": {
    "#solution": false,
    "#staff": false,
    "#student": false
   },
   "outputs": [],
   "source": [
    "# left hand side\n",
    "# Display the definite integral\n",
    "\n",
    "Integral(f, (x, 3, 7))"
   ]
  },
  {
   "cell_type": "markdown",
   "metadata": {
    "#solution": false,
    "#staff": false,
    "#student": false
   },
   "source": [
    "To evaluate the integral, use `doit()` as before. You will get the same answer as you did earlier."
   ]
  },
  {
   "cell_type": "code",
   "execution_count": null,
   "metadata": {
    "#solution": false,
    "#staff": false,
    "#student": false
   },
   "outputs": [],
   "source": [
    "# Evaluate the definite integral\n",
    "\n",
    "Integral(f, (x, 3, 7)).doit()"
   ]
  },
  {
   "cell_type": "markdown",
   "metadata": {
    "#solution": false,
    "#staff": false,
    "#student": false
   },
   "source": [
    "The standard operations on integrals can be performed just as you would expect. At each cell below, pause and read the expression carefully. Then run the cell and examine the output just as carefully."
   ]
  },
  {
   "cell_type": "code",
   "execution_count": null,
   "metadata": {
    "#solution": false,
    "#staff": false,
    "#student": false
   },
   "outputs": [],
   "source": [
    "# Display a sum of integrals\n",
    "\n",
    "Integral(f, (x, 3, 4)) + Integral(f, (x, 4, 7))"
   ]
  },
  {
   "cell_type": "code",
   "execution_count": null,
   "metadata": {
    "#solution": false,
    "#staff": false,
    "#student": false
   },
   "outputs": [],
   "source": [
    "# Evaluate it\n",
    "\n",
    "(Integral(f, (x, 3, 4)) + Integral(f, (x, 4, 7)) ).doit()"
   ]
  },
  {
   "cell_type": "code",
   "execution_count": null,
   "metadata": {
    "#solution": false,
    "#staff": false,
    "#student": false
   },
   "outputs": [],
   "source": [
    "# Display the integral of a new function of x\n",
    "\n",
    "Integral((x-7)*f, (x, 2, 10))"
   ]
  },
  {
   "cell_type": "code",
   "execution_count": null,
   "metadata": {
    "#solution": false,
    "#staff": false,
    "#student": false
   },
   "outputs": [],
   "source": [
    "# Evaluate the integral\n",
    "\n",
    "Integral((x-7)*f, (x, 2, 10)).doit()"
   ]
  },
  {
   "cell_type": "markdown",
   "metadata": {
    "#solution": false,
    "#staff": false,
    "#student": false
   },
   "source": [
    "You could have evaluated each of these integrals without displaying it first. But it is strongly recommended that you do display the integral first, so that you are confident that the right quantity is being calculated."
   ]
  },
  {
   "cell_type": "markdown",
   "metadata": {
    "#solution": false,
    "#staff": false,
    "#student": false
   },
   "source": [
    "### 1e) Differentiation ###\n",
    "We started with $f(x) = 2x+1$:"
   ]
  },
  {
   "cell_type": "code",
   "execution_count": null,
   "metadata": {
    "#solution": false,
    "#staff": false,
    "#student": false
   },
   "outputs": [],
   "source": [
    "f"
   ]
  },
  {
   "cell_type": "markdown",
   "metadata": {
    "#solution": false,
    "#staff": false,
    "#student": false
   },
   "source": [
    "So\n",
    "$$\n",
    "\\frac{d}{dx} f(x) ~ = ~ 2\n",
    "$$\n",
    "\n",
    "To get the derivative in `SymPy`, use `diff`."
   ]
  },
  {
   "cell_type": "code",
   "execution_count": null,
   "metadata": {
    "#solution": false,
    "#staff": false,
    "#student": false
   },
   "outputs": [],
   "source": [
    "diff(f)"
   ]
  },
  {
   "cell_type": "markdown",
   "metadata": {
    "#solution": false,
    "#staff": false,
    "#student": false
   },
   "source": [
    "Since we defined $F$ as the integral of $f$, the Fundamental Theorem of Calculus says that\n",
    "\n",
    "$$\n",
    "f(x) ~ = ~ \\frac{d}{dx} F(x)\n",
    "$$"
   ]
  },
  {
   "cell_type": "code",
   "execution_count": null,
   "metadata": {
    "#solution": false,
    "#staff": false,
    "#student": false
   },
   "outputs": [],
   "source": [
    "# Differentiate F to get back f\n",
    "\n",
    "diff(F)"
   ]
  },
  {
   "cell_type": "code",
   "execution_count": null,
   "metadata": {
    "#solution": false,
    "#staff": false,
    "#student": false
   },
   "outputs": [],
   "source": [
    "# You can differentiate F twice, just for fun\n",
    "# That's the same as differentiating f\n",
    "\n",
    "diff(diff(F))"
   ]
  },
  {
   "cell_type": "markdown",
   "metadata": {
    "#solution": false,
    "#staff": false,
    "#student": false
   },
   "source": [
    "### 1f) Solving an Equation ###\n",
    "Equations can have numerous different forms, so symbolic math systems require consistent ways of specifying the equations to be solved. That way they don't have to have separate functions for solving all the different kinds of equations. Let's see how to solve equations in `SymPy`.\n",
    "\n",
    "We will restrict ourselves to equations involving a single unknown. For a sense of the variety of the equations that `SymPy` can solve, see the [`Solver` module reference](https://docs.sympy.org/latest/modules/solvers/solvers.html).\n",
    "\n",
    "The general form of an equation in $x$ is \n",
    "\n",
    "$$\n",
    "h(x) ~ = ~ g(x)\n",
    "$$\n",
    "\n",
    "for two functions $h$ and $g$. Solving this equation is the same as solving the equation\n",
    "\n",
    "$$\n",
    "h(x) - g(x) ~ = ~ 0\n",
    "$$\n",
    "\n",
    "which can be written as $d(x) = 0$ for $d = h - g$.\n",
    "\n",
    "So every equation can be written with 0 as the right hand side. This helps simplify syntax. That is why `Solver` in `SymPy` requires 0 as the right hand side of the equation. That is, the equation should be in the form $d(x) = 0$. \n",
    "\n",
    "The call is `solve(d, x)` where `d` is the expression on the left hand side and involves the symbol `x`.\n",
    "\n",
    "Solving $d(x) = 0$ means finding the value of $x$ for which the value of $d(x)$ is 0. The instruction `solve(d, x)` tells the computer to find the value of `x` for which the value of the expression `d` is 0. \n",
    "\n",
    "For example, to solve $5x = 15$, `SymPy` finds the value of $x$ that solves the equation $5x - 15 = 0$. "
   ]
  },
  {
   "cell_type": "code",
   "execution_count": null,
   "metadata": {
    "#solution": false,
    "#staff": false,
    "#student": false
   },
   "outputs": [],
   "source": [
    "solve(5*x - 15, x)"
   ]
  },
  {
   "cell_type": "markdown",
   "metadata": {
    "#solution": false,
    "#staff": false,
    "#student": false
   },
   "source": [
    "Some equations have multiple solutions, so the output is a list of all the solutions. In the case of the equation $5x - 15 = 0$, the list contains just one element, 3.\n",
    "\n",
    "When you want to work with the element, you can access it by specifying its index."
   ]
  },
  {
   "cell_type": "code",
   "execution_count": null,
   "metadata": {
    "#solution": false,
    "#staff": false,
    "#student": false
   },
   "outputs": [],
   "source": [
    "solve(5*x - 15, x)[0]"
   ]
  },
  {
   "cell_type": "markdown",
   "metadata": {
    "#solution": false,
    "#staff": false,
    "#student": false
   },
   "source": [
    "Here are the solutions to the equation $x^2 + 5x + 6 = 0$. In an algebra class you will have learned to factor the left hand side to get $(x+2)(x+3) = 0$ and hence the two solutions $x = -3$ and $x = -2$."
   ]
  },
  {
   "cell_type": "code",
   "execution_count": null,
   "metadata": {
    "#solution": false,
    "#staff": false,
    "#student": false
   },
   "outputs": [],
   "source": [
    "solve(x**2 + 5*x + 6, x)"
   ]
  },
  {
   "cell_type": "markdown",
   "metadata": {
    "#solution": false,
    "#staff": false,
    "#student": false
   },
   "source": [
    "You can use previously defined expressions as part of the expression in `solve`. For example, we previously defined `f` as the right hand side of $f(x) = 2x+1$. We can solve the equation $f(x) = 9$ as follows."
   ]
  },
  {
   "cell_type": "code",
   "execution_count": null,
   "metadata": {
    "#solution": false,
    "#staff": false,
    "#student": false
   },
   "outputs": [],
   "source": [
    "solve(f - 9, x)"
   ]
  },
  {
   "cell_type": "markdown",
   "metadata": {
    "#solution": false,
    "#staff": false,
    "#student": false
   },
   "source": [
    "### 1g) Inverse ###\n",
    "\n",
    "Finding the inverse of a function $f$ at a point $y$ means finding the value of $x$ such that $f(x) = y$. \n",
    "\n",
    "This just means writing $x$ in terms of $y$. The formal math move is to solve for $x$ in the equation $f(x) = y$.\n",
    "\n",
    "Because we are going to solve the equation using `SymPy`, we will solve for $x$ in the equation $f(x) - y = 0$.\n",
    "\n",
    "To execute this plan in `SymPy`, we will first have to declare `y` as a symbol, and then solve the equation."
   ]
  },
  {
   "cell_type": "code",
   "execution_count": null,
   "metadata": {
    "#solution": false,
    "#staff": false,
    "#student": false
   },
   "outputs": [],
   "source": [
    "y = Symbol('y')\n",
    "solve(f - y, x)"
   ]
  },
  {
   "cell_type": "markdown",
   "metadata": {
    "#solution": false,
    "#staff": false,
    "#student": false
   },
   "source": [
    "Does the answer make sense? Remember that $f(x) = 2x + 1$ and solve the equation the old-fashioned way.\n",
    "\n",
    "$$\n",
    "y = 2x + 1 ~ \\iff ~ y - 1 = 2x ~ \\iff ~ x = \\frac{y-1}{2} ~ = ~ \\frac{y}{2} - \\frac{1}{2}\n",
    "$$"
   ]
  },
  {
   "cell_type": "markdown",
   "metadata": {
    "#solution": false,
    "#staff": false,
    "#student": false
   },
   "source": [
    "It works. As before, you can access the inverse by specifying its index in the list."
   ]
  },
  {
   "cell_type": "code",
   "execution_count": null,
   "metadata": {
    "#solution": false,
    "#staff": false,
    "#student": false
   },
   "outputs": [],
   "source": [
    "f_inverse = solve(f-y, x)[0]\n",
    "f_inverse"
   ]
  },
  {
   "cell_type": "markdown",
   "metadata": {
    "#solution": false,
    "#staff": false,
    "#student": false
   },
   "source": [
    "#newpage\n",
    "\n",
    "## Part 2: Working with Densities ###\n",
    "Now that you have an idea of what you can do with `SymPy`, it's time for some probability theory.\n",
    "\n",
    "In Prob 140, calculus is used almost exclusively when working with densities. Later in the course it will be used for some optimization as well, but density calculations are its main use.\n",
    "\n",
    "In this part of the lab, you will use `SymPy` to work with a very simple density. That way, you will be able to check by hand that `SymPy` is getting the right answers. In subsequent parts of the lab, the densities will get more complicated. Treat this part of the lab as a warm-up."
   ]
  },
  {
   "cell_type": "markdown",
   "metadata": {
    "#solution": false,
    "#staff": false,
    "#student": false
   },
   "source": [
    "### 2a) A Density on the Unit Interval ###\n",
    "Let $X$ have density $f_X(x) = 6x^5$ for $0 < x < 1$.\n",
    "\n",
    "To work with this density, you have to start by creating a symbol representing $x$. Notice that `Symbol` takes an optional argument that allows you to specify that a variable is positive. This can be useful, as you will see below. \n",
    "\n",
    "Complete the cell by using `x` to construct an expression `f_X` that is equal to $f_X(x)$."
   ]
  },
  {
   "cell_type": "code",
   "execution_count": null,
   "metadata": {
    "#solution": false,
    "#staff": false,
    "#student": true
   },
   "outputs": [],
   "source": [
    "x = Symbol('x', positive=True)\n",
    "f_X = ...\n",
    "f_X"
   ]
  },
  {
   "cell_type": "markdown",
   "metadata": {
    "#solution": false,
    "#staff": false,
    "#student": false
   },
   "source": [
    "Is the function $f_X$ in fact a density? \n",
    "\n",
    "What do you need to check to answer this? Explain in the cell below and use the cell below that for calculation."
   ]
  },
  {
   "cell_type": "markdown",
   "metadata": {
    "#solution": false,
    "#staff": false,
    "#student": true
   },
   "source": [
    "\n",
    "**Your answer here**"
   ]
  },
  {
   "cell_type": "code",
   "execution_count": null,
   "metadata": {
    "#solution": false,
    "#staff": false,
    "#student": true
   },
   "outputs": [],
   "source": [
    "..."
   ]
  },
  {
   "cell_type": "markdown",
   "metadata": {
    "#solution": false,
    "#staff": false,
    "#student": false
   },
   "source": [
    "The `prob140` library includes a plotting function `Plot_continuous` that plots a line graph of a probability density. The arguments are a list containing the endpoints of the interval over which to draw the graph, and a probability density which can be specified by a `SymPy` expression.\n",
    "\n",
    "Run the cell below to plot the graph of $f_X$ on the unit interval."
   ]
  },
  {
   "cell_type": "code",
   "execution_count": null,
   "metadata": {
    "#solution": false,
    "#staff": false,
    "#student": false
   },
   "outputs": [],
   "source": [
    "Plot_continuous([0, 1], f_X)"
   ]
  },
  {
   "cell_type": "markdown",
   "metadata": {
    "#solution": false,
    "#staff": false,
    "#student": false
   },
   "source": [
    "Before you go further, please review Part **1d** on Integration very carefully."
   ]
  },
  {
   "cell_type": "markdown",
   "metadata": {
    "#solution": false,
    "#staff": false,
    "#student": false
   },
   "source": [
    "### 2b) Finding Probabilities ###\n",
    "\n",
    "Find $P(X > 0.75)$ by integrating the density appropriately. The code in the first cell below should display the integral and in the next cell you will evaluate that integral."
   ]
  },
  {
   "cell_type": "code",
   "execution_count": null,
   "metadata": {
    "#solution": false,
    "#staff": false,
    "#student": true
   },
   "outputs": [],
   "source": [
    "# Display the integral for P(X > 0.75)\n",
    "\n",
    "Integral(...)"
   ]
  },
  {
   "cell_type": "code",
   "execution_count": null,
   "metadata": {
    "#solution": false,
    "#staff": false,
    "#student": true
   },
   "outputs": [],
   "source": [
    "# Evaluate P(X > 0.75)\n",
    "\n",
    "..."
   ]
  },
  {
   "cell_type": "markdown",
   "metadata": {
    "#solution": false,
    "#staff": false,
    "#student": false
   },
   "source": [
    "In the cell below, fill in the blanks with numbers: The event $\\vert X - 0.7 \\vert < 0.25$ is the same as the event $X \\in (\\underline{~~~~~~~~~~~}, \\underline{~~~~~~~~~~~})$."
   ]
  },
  {
   "cell_type": "markdown",
   "metadata": {
    "#solution": false,
    "#staff": false,
    "#student": true
   },
   "source": [
    "\n",
    "**Fill in your answer beow**\n",
    "\n",
    "First blank: \n",
    "\n",
    "Second blank:"
   ]
  },
  {
   "cell_type": "markdown",
   "metadata": {
    "#solution": false,
    "#staff": false,
    "#student": false
   },
   "source": [
    "Find $P(\\vert X - 0.7 \\vert < 0.25)$."
   ]
  },
  {
   "cell_type": "code",
   "execution_count": null,
   "metadata": {
    "#solution": false,
    "#staff": false,
    "#student": true
   },
   "outputs": [],
   "source": [
    "# P(|X - 0.7| < 0.25)\n",
    "\n",
    "..."
   ]
  },
  {
   "cell_type": "markdown",
   "metadata": {
    "#solution": false,
    "#staff": false,
    "#student": false
   },
   "source": [
    "### 2c) Finding Expectations ###\n",
    "\n",
    "Read [Section 15.3](http://prob140.org/textbook/content/Chapter_15/03_Expectation.html) before you get started.\n",
    "\n",
    "Find $E(X)$."
   ]
  },
  {
   "cell_type": "code",
   "execution_count": null,
   "metadata": {
    "#solution": false,
    "#staff": false,
    "#student": true
   },
   "outputs": [],
   "source": [
    "# E(X)\n",
    "\n",
    "expectation_X = ...\n",
    "expectation_X"
   ]
  },
  {
   "cell_type": "markdown",
   "metadata": {
    "#solution": false,
    "#staff": false,
    "#student": false
   },
   "source": [
    "Find $SD(X)$."
   ]
  },
  {
   "cell_type": "code",
   "execution_count": null,
   "metadata": {
    "#solution": false,
    "#staff": false,
    "#student": true
   },
   "outputs": [],
   "source": [
    "# SD(X)\n",
    "\n",
    "..."
   ]
  },
  {
   "cell_type": "markdown",
   "metadata": {
    "#solution": false,
    "#staff": false,
    "#student": false
   },
   "source": [
    "Just because you can, find $E(\\log(X))$. `SymPy` recognizes `log`. Use the first cell below to display the appropriate integral and use the next cell to evaluate it."
   ]
  },
  {
   "cell_type": "code",
   "execution_count": null,
   "metadata": {
    "#solution": false,
    "#staff": false,
    "#student": true
   },
   "outputs": [],
   "source": [
    "# Display the integral for E(log(X))\n",
    "\n",
    "Integral(...)"
   ]
  },
  {
   "cell_type": "markdown",
   "metadata": {
    "#solution": false,
    "#staff": false,
    "#student": false
   },
   "source": [
    "Notice that `SymPy` writes its integrand in a different order than we do in class. That's OK; it doesn't affect the integral."
   ]
  },
  {
   "cell_type": "code",
   "execution_count": null,
   "metadata": {
    "#solution": false,
    "#staff": false,
    "#student": true
   },
   "outputs": [],
   "source": [
    "# Numerical value of E(log(X))\n",
    "\n",
    "..."
   ]
  },
  {
   "cell_type": "markdown",
   "metadata": {
    "#solution": false,
    "#staff": false,
    "#student": false
   },
   "source": [
    "Why is the answer negative?"
   ]
  },
  {
   "cell_type": "markdown",
   "metadata": {
    "#solution": false,
    "#staff": false,
    "#student": true
   },
   "source": [
    "\n",
    "**Your answer here**"
   ]
  },
  {
   "cell_type": "markdown",
   "metadata": {
    "#solution": false,
    "#staff": false,
    "#student": false
   },
   "source": [
    "Find $E(\\sin^2(X))$, first displaying the integral and then evaluating it. Use `sin` for sine."
   ]
  },
  {
   "cell_type": "code",
   "execution_count": null,
   "metadata": {
    "#solution": false,
    "#staff": false,
    "#student": true
   },
   "outputs": [],
   "source": [
    "# Display the integral for E(sin_squared(X))\n",
    "\n",
    "..."
   ]
  },
  {
   "cell_type": "code",
   "execution_count": null,
   "metadata": {
    "#solution": false,
    "#staff": false,
    "#student": true
   },
   "outputs": [],
   "source": [
    "value_of_integral = ...\n",
    "value_of_integral"
   ]
  },
  {
   "cell_type": "markdown",
   "metadata": {
    "#solution": false,
    "#staff": false,
    "#student": false
   },
   "source": [
    "Sometimes `SymPy` can collect terms and simplify its answers. If you are good at half-angle formulae in trigonometry, you can check by hand that the simplification below is correct. But you don't need to do that for the lab."
   ]
  },
  {
   "cell_type": "code",
   "execution_count": null,
   "metadata": {
    "#solution": false,
    "#staff": false,
    "#student": false
   },
   "outputs": [],
   "source": [
    "simplify(value_of_integral)"
   ]
  },
  {
   "cell_type": "markdown",
   "metadata": {
    "#solution": false,
    "#staff": false,
    "#student": false
   },
   "source": [
    "### 2d) Change of Variable ###\n",
    "Let $g$ be a monotone differentiable function and let $V = g(X)$. The change of variable formula for densities says that the density of $V$ is given by\n",
    "\n",
    "$$\n",
    "f_V(v) = \\frac{f_X(x)}{\\big{|} \\frac{d}{dx} g(x) \\big{|}} ~~~~~ \\text{evaluated at } x = g^{-1}(v)\n",
    "$$\n",
    "\n",
    "See [Section 16.2](http://prob140.org/textbook/content/Chapter_16/02_Monotone_Functions.html) of the textbook for the derivation and examples. Each time you use the formula, the main steps to find the density are:\n",
    "\n",
    "- Find the possible values of $V = g(X)$.\n",
    "- Find the inverse of $g$.\n",
    "- Find the derivative of $g$.\n",
    "- Divide the density of $X$ by the derivative of $g$ (if the derivative is negative, use its absolute value instead).\n",
    "- Evaluate this quotient at the inverse of $g$.\n",
    "\n",
    "Use the formula to find the density of the area of a disc that has radius $X$. That is, find the density of $V = \\pi X^2$.\n",
    "\n",
    "Start by constructing a `SymPy` expression `g` defined by $g(x) = \\pi x^2$. `SymPy` recognizes `pi` as $\\pi$. Remember that you have already declared `x` and `f_X(x)` in question 2a."
   ]
  },
  {
   "cell_type": "code",
   "execution_count": null,
   "metadata": {
    "#solution": false,
    "#staff": false,
    "#student": true
   },
   "outputs": [],
   "source": [
    "g = ...\n",
    "g"
   ]
  },
  {
   "cell_type": "markdown",
   "metadata": {
    "#solution": false,
    "#staff": false,
    "#student": false
   },
   "source": [
    "It is worth keeping in mind that you have two representations of $\\pi$: \n",
    "\n",
    "- `pi` produces the symbol $\\pi$, using `SymPy`\n",
    "- `np.pi` produces a numerical approximation to $\\pi$, using `NumPy` "
   ]
  },
  {
   "cell_type": "code",
   "execution_count": null,
   "metadata": {
    "#solution": false,
    "#staff": false,
    "#student": false
   },
   "outputs": [],
   "source": [
    "pi, np.pi"
   ]
  },
  {
   "cell_type": "markdown",
   "metadata": {
    "#solution": false,
    "#staff": false,
    "#student": false
   },
   "source": [
    "As always, when you are specifying a distribution, start with the possible values. What are the possible values of the random area $V$? "
   ]
  },
  {
   "cell_type": "markdown",
   "metadata": {
    "#solution": false,
    "#staff": false,
    "#student": true
   },
   "source": [
    "\n",
    "**Your answer here**"
   ]
  },
  {
   "cell_type": "markdown",
   "metadata": {
    "#solution": false,
    "#staff": false,
    "#student": false
   },
   "source": [
    "Now find all the elements of the right hand side of the change of variable formula, one by one.\n",
    "\n",
    "First find the function $g^{-1}$ by using the equation $g(x) = v$ to write $x$ in terms of $v$. That is, solve for $x$ in the equation $g(x) = v$, or, equivalently, in the equation $g(x)-v = 0$. \n",
    "\n",
    "Review Parts **1f** and **1g** carefully before you proceed."
   ]
  },
  {
   "cell_type": "code",
   "execution_count": null,
   "metadata": {
    "#solution": false,
    "#staff": false,
    "#student": true
   },
   "outputs": [],
   "source": [
    "v = Symbol('v', positive=True)\n",
    "g_inverse = solve(...)\n",
    "g_inverse"
   ]
  },
  {
   "cell_type": "markdown",
   "metadata": {
    "#solution": false,
    "#staff": false,
    "#student": false
   },
   "source": [
    "Notice that `SymPy` lists just one inverse – the positive one – because you specified that $x$ is positive. The other inverse is $-\\frac{\\sqrt{v}}{\\sqrt{\\pi}}$ but it is not a permitted value of $x$ because it is negative."
   ]
  },
  {
   "cell_type": "markdown",
   "metadata": {
    "#solution": false,
    "#staff": false,
    "#student": false
   },
   "source": [
    "Run the cell below to extract the inverse from the list."
   ]
  },
  {
   "cell_type": "code",
   "execution_count": null,
   "metadata": {
    "#solution": false,
    "#staff": false,
    "#student": false
   },
   "outputs": [],
   "source": [
    "g_inverse = g_inverse[0]\n",
    "g_inverse"
   ]
  },
  {
   "cell_type": "markdown",
   "metadata": {
    "#solution": false,
    "#staff": false,
    "#student": false
   },
   "source": [
    "The change of variable formula has another factor: the derivative in the denominator. Because $g$ is an increasing function, its derivative is positive and you won't need the absolute value in the formula.\n",
    "\n",
    "Use `SymPy` to find the derivative of $g$, so that the expression `deriv_g` is equal to $\\frac{d}{dx}g(x)$. \n",
    "\n",
    "**Do not** find the derviative by hand and simply assign that expression to `deriv_g`. See **1e** for how to differentiate in `SymPy`."
   ]
  },
  {
   "cell_type": "code",
   "execution_count": null,
   "metadata": {
    "#solution": false,
    "#staff": false,
    "#student": true
   },
   "outputs": [],
   "source": [
    "deriv_g = ...\n",
    "deriv_g"
   ]
  },
  {
   "cell_type": "markdown",
   "metadata": {
    "#solution": false,
    "#staff": false,
    "#student": false
   },
   "source": [
    "Now apply the change of variable formula to find $f_V$, the density of $V$. **In the comment line, enter the possible values of $V$.**"
   ]
  },
  {
   "cell_type": "code",
   "execution_count": null,
   "metadata": {
    "#solution": false,
    "#staff": false,
    "#student": true
   },
   "outputs": [],
   "source": [
    "\"\"\"For v in the interval ..., the density of V at the point v is:\"\"\"\n",
    "\n",
    "f_V = (... / ...).subs(...)\n",
    "f_V"
   ]
  },
  {
   "cell_type": "markdown",
   "metadata": {
    "#solution": false,
    "#staff": false,
    "#student": false
   },
   "source": [
    "Check that the function `f_V` is a density."
   ]
  },
  {
   "cell_type": "code",
   "execution_count": null,
   "metadata": {
    "#solution": false,
    "#staff": false,
    "#student": true
   },
   "outputs": [],
   "source": [
    "..."
   ]
  },
  {
   "cell_type": "markdown",
   "metadata": {
    "#solution": false,
    "#staff": false,
    "#student": false
   },
   "source": [
    "Plot the graph of the density of $V$. Recall from Part **a** that the first argument of `Plot_continuous` is a list of two elements: the left and right ends of the interval over which to plot the graph. They must be numerical expressions, not symbolic."
   ]
  },
  {
   "cell_type": "code",
   "execution_count": null,
   "metadata": {
    "#solution": false,
    "#staff": false,
    "#student": true
   },
   "outputs": [],
   "source": [
    "Plot_continuous(...)"
   ]
  },
  {
   "cell_type": "markdown",
   "metadata": {
    "#solution": false,
    "#staff": false,
    "#student": false
   },
   "source": [
    "# Part A of the lab ends here, and is due by 11:59 pm Monday October 26 #"
   ]
  },
  {
   "cell_type": "markdown",
   "metadata": {
    "#solution": false,
    "#staff": false,
    "#student": false
   },
   "source": [
    "#newpage\n",
    "\n",
    "\n",
    "## Part 3: Transforming an $F$ Distribution ##\n",
    "The density you worked with in Part 2 was deliberately chosen to be simple. The real value of `SymPy` is that without much difficulty you can use essentially the same code to handle more complicated density functions.\n",
    "\n",
    "In this part of the lab you will start with one of the famous distributions of statistical inference, confusingly named the $F$ distribution. It's not named for our old friend the cdf. It is named for our other old friend Sir Ronald Fisher, the extraordinary scientist whose contributions include what is now the standard method of testing statistical hypotheses. You might recall from Data 8 that it was Fisher who found 5% to be a \"convenient\" cutoff for the P-value, which then became set in stone as the cutoff for statistical significance.\n",
    "\n",
    "The $F$ distribution arises as the distribution of the ratio of two independent gamma random variables (apart from a constant multiplier). The ratio arises in tests of whether three or more random samples come from the same underlying distribution.\n",
    "\n",
    "For the purposes of this lab, the $F$ distribution is just an ordinary distribution on the positive numbers. It has two parameters, which we will call $n$ for \"numerator\" and $d$ for \"denominator\". And its density has a rather intimidating formula."
   ]
  },
  {
   "cell_type": "markdown",
   "metadata": {
    "#solution": false,
    "#staff": false,
    "#student": false
   },
   "source": [
    "### The $F_{n,d}$ Density ###\n",
    "The gamma function of mathematics is denoted $\\Gamma$ (that's the upper case Greek letter gamma) and is defined as an integral. Both its domain and range are the positive numbers. In your current Homework assignment you are examining the definition and properties of the gamma function. In this lab, you will only need one of those results:\n",
    "\n",
    "For positive integer $n$, $\\Gamma(n) = (n-1)!$.\n",
    "\n",
    "Now for the definition of the $F$ density.\n",
    "\n",
    "Let $n$ and $d$ be positive integers. The random variable $X$ has the $F_{n,d}$ distribution if the density of $X$ is\n",
    "\n",
    "$$\n",
    "f_X(x) ~ = ~ \\frac{\\Gamma\\big{(}\\frac{n}{2} + \\frac{d}{2}\\big{)}}{\\Gamma\\big{(}\\frac{n}{2}\\big{)}\\Gamma\\big{(}\\frac{d}{2}\\big{)}} \\big{(} \\frac{n}{d} \\big{)}^{\\frac{n}{2}} x^{\\frac{n}{2} -1}\\big{(}1 + \\frac{n}{d}x \\big{)}^{-\\frac{n+d}{2}} ~, ~~~~~~~ x > 0\n",
    "$$\n",
    "\n",
    "That looks awful. But it isn't, really. Let's see why."
   ]
  },
  {
   "cell_type": "markdown",
   "metadata": {
    "#solution": false,
    "#staff": false,
    "#student": false
   },
   "source": [
    "### 3a) The Constant ###\n",
    "As with many densities, the part of the formula that looks most impressive is actually the least interesting as far as the shape of the density is concerned. It's just the constant of integration: the numerical factor that makes the density integrate to 1. \n",
    "\n",
    "To evaluate the constant you will need to evaluate the gamma function numerically. The `SymPy` function `gamma` can be used for this. The function also has another use but you will not need that for this lab."
   ]
  },
  {
   "cell_type": "code",
   "execution_count": null,
   "metadata": {
    "#solution": false,
    "#staff": false,
    "#student": false
   },
   "outputs": [],
   "source": [
    "gamma(4)"
   ]
  },
  {
   "cell_type": "code",
   "execution_count": null,
   "metadata": {
    "#solution": false,
    "#staff": false,
    "#student": false
   },
   "outputs": [],
   "source": [
    "gamma(4.5)"
   ]
  },
  {
   "cell_type": "code",
   "execution_count": null,
   "metadata": {
    "#solution": false,
    "#staff": false,
    "#student": false
   },
   "outputs": [],
   "source": [
    "gamma(5)"
   ]
  },
  {
   "cell_type": "code",
   "execution_count": null,
   "metadata": {
    "#solution": false,
    "#staff": false,
    "#student": false
   },
   "outputs": [],
   "source": [
    "r = Symbol('r', positive=True)\n",
    "gamma(r)"
   ]
  },
  {
   "cell_type": "markdown",
   "metadata": {
    "#solution": false,
    "#staff": false,
    "#student": false
   },
   "source": [
    "Start out by evaluating the constant in the $F_{n,d}$ density. Define a Python function `constant_F` that takes $n$ and $d$ as its arguments and returns the normalizing constant in the density above. "
   ]
  },
  {
   "cell_type": "code",
   "execution_count": null,
   "metadata": {
    "#solution": false,
    "#staff": false,
    "#student": true
   },
   "outputs": [],
   "source": [
    "def constant_F(n, d):\n",
    "    return ..."
   ]
  },
  {
   "cell_type": "markdown",
   "metadata": {
    "#solution": false,
    "#staff": false,
    "#student": false
   },
   "source": [
    "Work out (by hand or by mental math) the constant when $n = d = 4$, and check that your function returns the right value."
   ]
  },
  {
   "cell_type": "code",
   "execution_count": null,
   "metadata": {
    "#solution": false,
    "#staff": false,
    "#student": false
   },
   "outputs": [],
   "source": [
    "constant_F(4, 4)"
   ]
  },
  {
   "cell_type": "markdown",
   "metadata": {
    "#solution": false,
    "#staff": false,
    "#student": false
   },
   "source": [
    "As another check, work out the constant when $n = 2$ and $d = 4$, and check that your function returns the right value."
   ]
  },
  {
   "cell_type": "code",
   "execution_count": null,
   "metadata": {
    "#solution": false,
    "#staff": false,
    "#student": false
   },
   "outputs": [],
   "source": [
    "constant_F(2, 4)"
   ]
  },
  {
   "cell_type": "markdown",
   "metadata": {
    "#solution": false,
    "#staff": false,
    "#student": false
   },
   "source": [
    "### 3b) The $F_{6, 4}$ Density ###\n",
    "\n",
    "As a numerical example, let $X$ have the $F_{6, 4}$ density, which we will call $f_X$. Construct a `SymPy` expression `f_X` that is equal to $f_X(x)$."
   ]
  },
  {
   "cell_type": "code",
   "execution_count": null,
   "metadata": {
    "#solution": false,
    "#staff": false,
    "#student": true
   },
   "outputs": [],
   "source": [
    "x = Symbol('x', positive=True)\n",
    "f_X = constant_F(...)\n",
    "f_X"
   ]
  },
  {
   "cell_type": "markdown",
   "metadata": {
    "#solution": false,
    "#staff": false,
    "#student": false
   },
   "source": [
    "That's not very scary at all. It's just a ratio of two polynomials, because $n=6$ and $d=4$ are both even. \n",
    "\n",
    "Check that $f_X$ is a density. Here you get to use something cute: \n",
    "\n",
    "- As the symbol for infinity, `SymPy` uses two lower case letter o's side by side, because oo looks like $\\infty$."
   ]
  },
  {
   "cell_type": "code",
   "execution_count": null,
   "metadata": {
    "#solution": false,
    "#staff": false,
    "#student": true
   },
   "outputs": [],
   "source": [
    "Integral(f_X, (x, ...)).doit()"
   ]
  },
  {
   "cell_type": "markdown",
   "metadata": {
    "#solution": false,
    "#staff": false,
    "#student": false
   },
   "source": [
    "Run the cell below to plot the density."
   ]
  },
  {
   "cell_type": "code",
   "execution_count": null,
   "metadata": {
    "#solution": false,
    "#staff": false,
    "#student": false
   },
   "outputs": [],
   "source": [
    "Plot_continuous([0, 10], f_X)"
   ]
  },
  {
   "cell_type": "markdown",
   "metadata": {
    "#solution": false,
    "#staff": false,
    "#student": false
   },
   "source": [
    "### 3c) A Transformation and its Inverse ###\n",
    "In the rest of this part of the lab, you will find the density of a function of $X$. Review Part **2d** very carefully first.\n",
    "\n",
    "Define a new random variable $V$ by applying the following function $g$ to the random variable $X$:\n",
    "\n",
    "$$\n",
    "g(x) ~ = ~ \\frac{\\frac{n}{d}x}{1 + \\frac{n}{d}x}\n",
    "$$\n",
    "Then\n",
    "$$\n",
    "V ~ = ~ g(X) ~ = ~ \\frac{\\frac{n}{d}X}{1 + \\frac{n}{d}X}\n",
    "$$\n",
    "\n",
    "With the help of `SymPy`, you are going to find the density of $V$.\n",
    "\n",
    "As always, start with the possible values. What are the possible values of V?"
   ]
  },
  {
   "cell_type": "markdown",
   "metadata": {
    "#solution": false,
    "#staff": false,
    "#student": true
   },
   "source": [
    "\n",
    "**Your answer here**"
   ]
  },
  {
   "cell_type": "markdown",
   "metadata": {
    "#solution": false,
    "#staff": false,
    "#student": false
   },
   "source": [
    "For $n = 6$ and $d = 4$, construct an expression `g` that is equal to $g(x)$ as defined above."
   ]
  },
  {
   "cell_type": "code",
   "execution_count": null,
   "metadata": {
    "#solution": false,
    "#staff": false,
    "#student": true
   },
   "outputs": [],
   "source": [
    "g = ...\n",
    "g"
   ]
  },
  {
   "cell_type": "markdown",
   "metadata": {
    "#solution": false,
    "#staff": false,
    "#student": false
   },
   "source": [
    "Is the function $g$ increasing or decreasing? Explain your answer."
   ]
  },
  {
   "cell_type": "markdown",
   "metadata": {
    "#solution": false,
    "#staff": false,
    "#student": true
   },
   "source": [
    "\n",
    "**Your answer here**"
   ]
  },
  {
   "cell_type": "markdown",
   "metadata": {
    "#solution": false,
    "#staff": false,
    "#student": false
   },
   "source": [
    "To find the density of $V = g(X)$, you will need the inverse of $g$.\n",
    "\n",
    "The function $g$ has a unique inverse. Let $v = g(x)$. Find the function $g^{-1}$ by completing the cell below. "
   ]
  },
  {
   "cell_type": "code",
   "execution_count": null,
   "metadata": {
    "#solution": false,
    "#staff": false,
    "#student": true
   },
   "outputs": [],
   "source": [
    "v = Symbol('v', positive=True)\n",
    "g_inverse = ...[...]\n",
    "g_inverse"
   ]
  },
  {
   "cell_type": "markdown",
   "metadata": {
    "#solution": false,
    "#staff": false,
    "#student": false
   },
   "source": [
    "Remember that for each $v$, $g^{-1}(v)$ is a value of $x$. Since $x$ is positive, the inverse you just found better not be negative. Show by algebra (without using `SymPy`) that the inverse calculated above is positive for each possible value $v$ of $V$."
   ]
  },
  {
   "cell_type": "markdown",
   "metadata": {
    "#solution": false,
    "#staff": false,
    "#student": true
   },
   "source": [
    "\n",
    "**Your answer here**"
   ]
  },
  {
   "cell_type": "markdown",
   "metadata": {
    "#solution": false,
    "#staff": false,
    "#student": false
   },
   "source": [
    "### 3d) A Derivative ###\n",
    "\n",
    "Complete the cell below so that `deriv_g` equals $\\frac{d}{dx}g(x)$."
   ]
  },
  {
   "cell_type": "code",
   "execution_count": null,
   "metadata": {
    "#solution": false,
    "#staff": false,
    "#student": true
   },
   "outputs": [],
   "source": [
    "deriv_g = ...\n",
    "deriv_g"
   ]
  },
  {
   "cell_type": "markdown",
   "metadata": {
    "#solution": false,
    "#staff": false,
    "#student": false
   },
   "source": [
    "Explain why this derivative is positive for all positive $x$."
   ]
  },
  {
   "cell_type": "markdown",
   "metadata": {
    "#solution": false,
    "#staff": false,
    "#student": true
   },
   "source": [
    "\n",
    "**Your answer here**"
   ]
  },
  {
   "cell_type": "markdown",
   "metadata": {
    "#solution": false,
    "#staff": false,
    "#student": false
   },
   "source": [
    "### 3e) The Density of the Transformation ###\n",
    "Use the change of variable formula in **2d** to find $f_V$, the density of $V$. Start by filling in the possible values of $V$ in the comment line."
   ]
  },
  {
   "cell_type": "code",
   "execution_count": null,
   "metadata": {
    "#solution": false,
    "#staff": false,
    "#student": true
   },
   "outputs": [],
   "source": [
    "# Density of V:\n",
    "\n",
    "\"\"\"For v in the interval ..., the density of V at the point v is:\"\"\"\n",
    "\n",
    "f_V = ...\n",
    "f_V"
   ]
  },
  {
   "cell_type": "markdown",
   "metadata": {
    "#solution": false,
    "#staff": false,
    "#student": false
   },
   "source": [
    "Yikes! That looks like a horrible mess. \n",
    "\n",
    "Does it simplify at all? Run the next cell and see."
   ]
  },
  {
   "cell_type": "code",
   "execution_count": null,
   "metadata": {
    "#solution": false,
    "#staff": false,
    "#student": false
   },
   "outputs": [],
   "source": [
    "f_V = simplify(f_V)\n",
    "f_V"
   ]
  },
  {
   "cell_type": "markdown",
   "metadata": {
    "#solution": false,
    "#staff": false,
    "#student": false
   },
   "source": [
    "Algebra is truly wonderful. Especially when `SymPy` does it for you.\n",
    "\n",
    "Recognize the density of $V$ as one of the famous ones and state its name and parameters. If you are stuck, you may find [Chapter 17.4](http://prob140.org/textbook/content/Chapter_17/04_Beta_Densities_with_Integer_Parameters.html) helpful."
   ]
  },
  {
   "cell_type": "markdown",
   "metadata": {
    "#solution": false,
    "#staff": false,
    "#student": true
   },
   "source": [
    "\n",
    "**Your answer here**"
   ]
  },
  {
   "cell_type": "markdown",
   "metadata": {
    "#solution": false,
    "#staff": false,
    "#student": false
   },
   "source": [
    "Plot the density of $V$ over all the possible values of $V$."
   ]
  },
  {
   "cell_type": "code",
   "execution_count": null,
   "metadata": {
    "#solution": false,
    "#staff": false,
    "#student": true
   },
   "outputs": [],
   "source": [
    "Plot_continuous(...)"
   ]
  },
  {
   "cell_type": "markdown",
   "metadata": {
    "#solution": false,
    "#staff": false,
    "#student": false
   },
   "source": [
    "**Note:** There is nothing special about the choices $n=6$ and $d=4$ as far as this result is concerned. If you had started out with a different $(n, d)$ pair, you would have ended up with a density in the same family but with different parameters. Based on your answer in the case $(6, 4)$, you might be able to guess what the parameters would be in general."
   ]
  },
  {
   "cell_type": "markdown",
   "metadata": {
    "#solution": false,
    "#staff": false,
    "#student": false
   },
   "source": [
    "#newpage\n",
    "\n",
    "## Part 4: Working with Joint Densities ##\n",
    "A joint density is a function of two variables. This part of the lab shows you how to work with such functions in `SymPy`.\n",
    "\n",
    "Before you get started, please read [Section 17.1](http://prob140.org/textbook/content/Chapter_17/01_Probabilities_and_Expectations.html) of the textbook. The rest of the lab will go faster that way.\n",
    "\n",
    "Let $X$ and $Y$ have joint density given by\n",
    "$$\n",
    "f(x, y) ~ = ~ x+y, ~~~~ 0 < x, y < 1\n",
    "$$\n",
    "\n",
    "In order to find probabilities, densities, or expectations of functions of $X$ and $Y$, you have to create two symbols, which we will assign to the names `x` and `y`. Since both have values in $(0, 1)$, we will use the `positive=True` option."
   ]
  },
  {
   "cell_type": "code",
   "execution_count": null,
   "metadata": {
    "#solution": false,
    "#staff": false,
    "#student": false
   },
   "outputs": [],
   "source": [
    "x = Symbol('x', positive=True)\n",
    "y = Symbol('y', positive=True)"
   ]
  },
  {
   "cell_type": "code",
   "execution_count": null,
   "metadata": {
    "#solution": false,
    "#staff": false,
    "#student": false
   },
   "outputs": [],
   "source": [
    "f = x+y\n",
    "f"
   ]
  },
  {
   "cell_type": "markdown",
   "metadata": {
    "#solution": false,
    "#staff": false,
    "#student": false
   },
   "source": [
    "You know that the integral of $f$ over the entire unit square has to be 1. To calculate this using `SymPy`, you have to specify a double integral. The general expression used to display a definite double integral is `Integral` with three arguments:\n",
    "\n",
    "- the name of the function to integrate\n",
    "- (inner_integral_variable, lower_limit, upper_limit)\n",
    "- (outer_integral_variable, lower_limit, upper_limit)\n",
    "\n",
    "Read each of the three cells below carefully before you run them. You will need the syntax later."
   ]
  },
  {
   "cell_type": "code",
   "execution_count": null,
   "metadata": {
    "#solution": false,
    "#staff": false,
    "#student": false
   },
   "outputs": [],
   "source": [
    "# Integral of f over the unit square,\n",
    "# integrating x first and then y\n",
    "\n",
    "Integral(f, (x, 0, 1), (y, 0, 1))"
   ]
  },
  {
   "cell_type": "code",
   "execution_count": null,
   "metadata": {
    "#solution": false,
    "#staff": false,
    "#student": false
   },
   "outputs": [],
   "source": [
    "# Integral of f over the unit square,\n",
    "# integrating y first and then x\n",
    "\n",
    "Integral(f, (y, 0, 1), (x, 0, 1))"
   ]
  },
  {
   "cell_type": "code",
   "execution_count": null,
   "metadata": {
    "#solution": false,
    "#staff": false,
    "#student": false
   },
   "outputs": [],
   "source": [
    "# Evaluating both integrals\n",
    "\n",
    "Integral(f, (x, 0, 1), (y, 0, 1)).doit(), Integral(f, (y, 0, 1), (x, 0, 1)).doit()"
   ]
  },
  {
   "cell_type": "markdown",
   "metadata": {
    "#solution": false,
    "#staff": false,
    "#student": false
   },
   "source": [
    "### 4a) [ON PAPER] ###\n",
    "On a sketch of the unit square, shade the region corresponding to the event $Y > 2X$. Then write $P(Y > 2X)$ as a double integral, in two ways:\n",
    "\n",
    "- by integrating $y$ first and then $x$\n",
    "- by integrating $x$ first and then $y$\n",
    "\n",
    "The region isn't a rectangle, so pay attention to the limits of integration."
   ]
  },
  {
   "cell_type": "markdown",
   "metadata": {
    "#solution": false,
    "#staff": false,
    "#student": false
   },
   "source": [
    "### 4b) ###\n",
    "In the two cells below, display your answers to Part **a**. Do not evaluate the integrals."
   ]
  },
  {
   "cell_type": "code",
   "execution_count": null,
   "metadata": {
    "#solution": false,
    "#staff": false,
    "#student": true
   },
   "outputs": [],
   "source": [
    "# P(Y > 2X) by integrating y first and then x\n",
    "\n",
    "Integral(f, (y, ...), (x, ...))"
   ]
  },
  {
   "cell_type": "code",
   "execution_count": null,
   "metadata": {
    "#solution": false,
    "#staff": false,
    "#student": true
   },
   "outputs": [],
   "source": [
    "# P(Y > 2X) by integrating x first and then y\n",
    "\n",
    "Integral(f, (x, ...), (y, ...))"
   ]
  },
  {
   "cell_type": "markdown",
   "metadata": {
    "#solution": false,
    "#staff": false,
    "#student": false
   },
   "source": [
    "Check that the numerical values of the two double integrals are the same. Notice that `SymPy` makes choices about how to represent numbers; you might need another cell to do some arithmetic."
   ]
  },
  {
   "cell_type": "code",
   "execution_count": null,
   "metadata": {
    "#solution": false,
    "#staff": false,
    "#student": true
   },
   "outputs": [],
   "source": [
    "# numerical value of P(Y > 2X)\n",
    "\n",
    "Integral(f, (y, ...), (x, ...)).doit(), Integral(f, (x, ...), (y, ...)).doit()"
   ]
  },
  {
   "cell_type": "code",
   "execution_count": null,
   "metadata": {
    "#solution": false,
    "#staff": false,
    "#student": true
   },
   "outputs": [],
   "source": [
    "..."
   ]
  },
  {
   "cell_type": "markdown",
   "metadata": {
    "#solution": false,
    "#staff": false,
    "#student": false
   },
   "source": [
    "### 4c) Marginal ###\n",
    "\n",
    "Find the marginal density of $X$. See [Section 17.3](http://prob140.org/textbook/content/Chapter_17/03_Marginal_and_Conditional_Densities.html)."
   ]
  },
  {
   "cell_type": "code",
   "execution_count": null,
   "metadata": {
    "#solution": false,
    "#staff": false,
    "#student": true
   },
   "outputs": [],
   "source": [
    "# For x in the interval 0 to 1, the marginal density of X at the point x is:\n",
    "\n",
    "f_X = ...\n",
    "f_X"
   ]
  },
  {
   "cell_type": "markdown",
   "metadata": {
    "#solution": false,
    "#staff": false,
    "#student": false
   },
   "source": [
    "Without calculation, say what the marginal density of $Y$ is. Explain your answer."
   ]
  },
  {
   "cell_type": "markdown",
   "metadata": {
    "#solution": false,
    "#staff": false,
    "#student": true
   },
   "source": [
    "\n",
    "**Your answer here**"
   ]
  },
  {
   "cell_type": "markdown",
   "metadata": {
    "#solution": false,
    "#staff": false,
    "#student": false
   },
   "source": [
    "### 4d) Expectation ###\n",
    "What is the relation between $E(X+Y)$ and $E(X)$?"
   ]
  },
  {
   "cell_type": "markdown",
   "metadata": {
    "#solution": false,
    "#staff": false,
    "#student": true
   },
   "source": [
    "\n",
    "**Your answer here**"
   ]
  },
  {
   "cell_type": "markdown",
   "metadata": {
    "#solution": false,
    "#staff": false,
    "#student": false
   },
   "source": [
    "Use `f_X` (not `f`) to find the numerical value of $E(X+Y)$."
   ]
  },
  {
   "cell_type": "code",
   "execution_count": null,
   "metadata": {
    "#solution": false,
    "#staff": false,
    "#student": true
   },
   "outputs": [],
   "source": [
    "..."
   ]
  },
  {
   "cell_type": "markdown",
   "metadata": {
    "#solution": false,
    "#staff": false,
    "#student": false
   },
   "source": [
    "Use the first cell below to display $E(XY)$ as an integral (see [Section 17.1](http://prob140.org/textbook/content/Chapter_17/01_Probabilities_and_Expectations.html)), and use the second cell to find its numerical value."
   ]
  },
  {
   "cell_type": "code",
   "execution_count": null,
   "metadata": {
    "#solution": false,
    "#staff": false,
    "#student": true
   },
   "outputs": [],
   "source": [
    "# E(XY) displayed as an integral\n",
    "\n",
    "..."
   ]
  },
  {
   "cell_type": "code",
   "execution_count": null,
   "metadata": {
    "#solution": false,
    "#staff": false,
    "#student": true
   },
   "outputs": [],
   "source": [
    "# Numerical value of E(XY)\n",
    "\n",
    "..."
   ]
  },
  {
   "cell_type": "markdown",
   "metadata": {
    "#solution": false,
    "#staff": false,
    "#student": false
   },
   "source": [
    "### 4e) Conditioning ###\n",
    "For $x \\in (0, 1)$, find the conditional density of $Y$ given $X=x$. This should be an expression involving both `x` and `y`, assigned to the name `f_Y_given_X_is_x`. Fill in the possible values in the comment. "
   ]
  },
  {
   "cell_type": "code",
   "execution_count": null,
   "metadata": {
    "#solution": false,
    "#staff": false,
    "#student": true
   },
   "outputs": [],
   "source": [
    "\"\"\"Given X=x, the possible values of Y are ... For y in this range:\"\"\"\n",
    "\n",
    "f_Y_given_X_is_x = ...\n",
    "f_Y_given_X_is_x"
   ]
  },
  {
   "cell_type": "markdown",
   "metadata": {
    "#solution": false,
    "#staff": false,
    "#student": false
   },
   "source": [
    "For each $x$, this should be a density. Is it? First, display the integral that you have to calculate to check this."
   ]
  },
  {
   "cell_type": "code",
   "execution_count": null,
   "metadata": {
    "#solution": false,
    "#staff": false,
    "#student": true
   },
   "outputs": [],
   "source": [
    "Integral(...)"
   ]
  },
  {
   "cell_type": "markdown",
   "metadata": {
    "#solution": false,
    "#staff": false,
    "#student": false
   },
   "source": [
    "Now evaluate the integral and check that it has the right value. Use `simplify` if necessary."
   ]
  },
  {
   "cell_type": "code",
   "execution_count": null,
   "metadata": {
    "#solution": false,
    "#staff": false,
    "#student": true
   },
   "outputs": [],
   "source": [
    "..."
   ]
  },
  {
   "cell_type": "markdown",
   "metadata": {
    "#solution": false,
    "#staff": false,
    "#student": false
   },
   "source": [
    "Use `f_Y_given_X_is_x` to find the conditional density of $Y$ given $X = 0.25$ and assign it to the name `f_Y_given_X_is_025`."
   ]
  },
  {
   "cell_type": "code",
   "execution_count": null,
   "metadata": {
    "#solution": false,
    "#staff": false,
    "#student": true
   },
   "outputs": [],
   "source": [
    "f_Y_given_X_is_025 = f_Y_given_X_is_x...\n",
    "f_Y_given_X_is_025"
   ]
  },
  {
   "cell_type": "markdown",
   "metadata": {
    "#solution": false,
    "#staff": false,
    "#student": false
   },
   "source": [
    "The cell below assigns $P(Y^2 > 0.9 \\mid X = 0.25)$ to the name `prob` and $E(Y \\mid X = 0.25)$ to `cond_exp`. Find the two numerical values by completing the cell."
   ]
  },
  {
   "cell_type": "code",
   "execution_count": null,
   "metadata": {
    "#solution": false,
    "#staff": false,
    "#student": true
   },
   "outputs": [],
   "source": [
    "prob = ...\n",
    "cond_exp = ...\n",
    "\n",
    "prob, cond_exp"
   ]
  },
  {
   "cell_type": "markdown",
   "metadata": {
    "#solution": false,
    "#staff": false,
    "#student": false
   },
   "source": [
    "## Conclusion ##\n",
    "Congratulations! The work that you have done in this lab will help reinforce your understanding of some of the most fundamental concepts of probability theory.\n",
    "\n",
    "What you have learned:\n",
    "\n",
    "- How to do symbolic math in Python\n",
    "- How to work with densities and joint densities\n",
    "- How to find the density of a transformed random variable \n",
    "- How to use conditioning when random variables are continuous"
   ]
  },
  {
   "cell_type": "markdown",
   "metadata": {
    "#solution": false,
    "#staff": false,
    "#student": false
   },
   "source": [
    "## Submission Instructions ##\n",
    "\n",
    "Many assignments throughout the course will have a written portion and a code portion. Please follow the directions below to properly submit both portions. \n",
    "\n",
    "### Written Portion ###\n",
    "*  Scan all the pages into a PDF. You can use any scanner or mobile application. There are many free apps available that allow you to convert your work into PDFs from your phone. Please **DO NOT** simply take pictures using your phone. \n",
    "* Please start a new page for each question. If you have already written multiple questions on the same page, you can crop the image or fold your page over (the old-fashioned way). This helps expedite grading.\n",
    "* It is your responsibility to check that all the work on all the scanned pages is legible.\n",
    "\n",
    "### Code Portion ###\n",
    "* Save your notebook using File > Save and Checkpoint.\n",
    "* Generate a PDF file using File > Download as > PDF via LaTeX. This might take a few seconds and will automatically download a PDF version of this notebook.\n",
    "    * If you have issues, please make a follow-up post on the general Lab 7 Piazza thread.\n",
    "    \n",
    "### Submitting ###\n",
    "* Combine the PDFs from the written and code portions into one PDF.  [Here](https://smallpdf.com/merge-pdf) is a useful tool for doing so. \n",
    "* Submit the assignment to Lab 7 on Gradescope. \n",
    "* **Make sure to assign each page of your pdf to the correct question.**\n",
    "* **It is your responsibility to verify that all of your work shows up in your final PDF submission.**\n",
    "\n",
    "If you have questions about scanning or uploading your work, please refer to this [guide](https://piazza.com/class/k5cqg51q5qb11v?cid=15) on Piazza or post a follow-up to the thread. "
   ]
  }
 ],
 "metadata": {
  "checksums": [
   "f55a7e1c90e2595b233c3956a2783786",
   "3015b1977296f2be4efdcf58a7db11aa",
   "d3756df7319109cd9e66d3ec1217c764",
   "cda8104d59ad57f725fe1e9d68ed4478",
   "f5ba6819dda1924635041c925e0dc4bf",
   "a2a165072ae7c79185ac77a0bbf52fbd",
   "85adc7bbeb2d555746129641f924713d",
   "4ef05c23977a515b2182d36ac7fca190",
   "518c84f8a1f148dbd174743a2ce02a06",
   "a8efbbaabf8100954e19fb44068efd9b",
   "c1b3470f682f199fe6945c9c717387eb",
   "9eed58972bf0a33b6da4bf7e17df57c2",
   "d42c91a3b20fcd046355c9b7b05c5e4a",
   "38cca8569b84da2bcad527138d3e01b1",
   "c86ab6f87fc43d1fcc946acdc0814dce",
   "d768bc9518f95b734f97825fb2230ffe",
   "09b4b5c6289e91acee4e99e79483bb3e",
   "87be20b27859238477a9397e052fd983",
   "c02968f3efdec8c782ca9487212d2731",
   "9cf94bbe39bb0b6b9841a2db7ac80583",
   "13b78e2dc131da6ce86632ff037a9286",
   "984250c91501aa3653ef681976d1ec5a",
   "0e48a88167c7b179bd0c3374eae03847",
   "1e217b9448121d33adca2f5ea7991264",
   "834b8292ff7cb37add448ad9c84c9fd7",
   "0cf478142ce37fe4d8d61cde25056ed8",
   "e2d23761c8d299fcddfefb49dc8603ec",
   "9d170cfc606b01dae96b3b5683f9cea3",
   "ed90bfc917c3a1aa0b180a1d2ddbf555",
   "e3f588c255fb22533fbe05d39c3896d7",
   "48c953c2d5e2b197b4a0eb83d68ced5c",
   "8cfe20b20ad3a8ef2ad30ce9b54d6789",
   "53c78a8b92150a7983585ab0bc2b22dc",
   "fdc7917b413dfad1ff64d535c8f268f4",
   "fbbe9b85f77d66ee4dc8aa8757b81dbc",
   "5a237c88ae01d072fbbdcd1b370d3dfc",
   "8020df9a5428cdbe2c3dca113be9c83a",
   "4571d598451faa1bf5b4678ef380be62",
   "80be309eede3345aa60bdb9a164d1b1d",
   "516ce2d5e9148eb789dc52193cda2d6f",
   "489be79d12fcb2d7911730a0e4a58da9",
   "79677121d58f1d51d38669df0351b2b4",
   "e4cebfd2ca54f7be93f0e4604f505a49",
   "5bb9a36c50d7be9a8b86d46812464e73",
   "38e0d6afed9b66ea8a7a8a28810e4bda",
   "8fa14cdd754f91cc6554c9e71929cce7",
   "39ee3631a4c93f321bf4ab770a0cc159",
   "223d426ff8b49552f6f5cbe924479895",
   "dd30f12b347aae866c4605656ad0933e",
   "06deec2bc19aa2b3a71c005d2a85cdff",
   "f46a14a80bc878e6b841258660b63171",
   "c5b49cb2c657a0efc7b9a6ab02cbab9a",
   "53fdc1aa05baaa8d9316ee4171c65152",
   "c62e3047247325ecc840b9b5cfd03207",
   "def155f55119c124aa93f3d0f492931f",
   "781d3e93834db1e2d244fd6629a9962b",
   "e47ad0fc15cce09200f46d975beb321f",
   "d163e772fa59439687f87ab8d2ed0d4e",
   "afdae2ddbe2243950053c9c292ca6149",
   "3bf1d094b79286703993260fe08f4b42",
   "17b3b6ab7d2e2e779584b6e881459ac2",
   "75e57ad35f8175b4783af39265d0103f",
   "5c1812811cf19626cc68109c0d77306b",
   "aa75643e9727763908b0c327d7fbc4b6",
   "e342b7713d5fd886ba0817f0aca7a171",
   "04fd0adce3a660cc91acf3ee718f1bc9",
   "aeba9a5e964ad95f9d0b2e34bd5f024b",
   "c035249e1e5e98224c8f9f65084f028c",
   "0de20b93bb878d597e59213991465648",
   "2f43b42fd833d1e77420a8dae7419000",
   "2e295ae22d4c76e3bc767fc7a10f27a2",
   "209aa96f1547f6c13adbd3f6cdb2a6ae",
   "2a4eac319487f9d80befec122255e372",
   "99f1f1ebf1bc656510c04b1a2d6816fe",
   "d1e7dc4a111de379759e52e1afb6bee3",
   "d4b2cddf2e8d0d9f8de5eaf60c9dd21c",
   "a7286a38383e50b4e917b9c2f7b34d8a",
   "d069843ca0a3588f1cd85aaa780114e6",
   "3d03b134cd22e6036c7fc306cc4c32cc",
   "ecf6798249ef556bb60344de73403301",
   "bfc83109fe63550c69c48cbc999976a2",
   "004acc863e204f17ec65d872e6096cb6",
   "98d7af6b6d88258f52348b6a49e41702",
   "313a44a294e66d1d9482649ca496aff2",
   "84af3d6aef9be3bb014f80e0755992ab",
   "8569010926120142fb0b586075dde301",
   "2d0fee07a6fbf341ef2b3095ea073ee6",
   "fe762a2fd9f0db6e84ad7def98450209",
   "1c5412497f8e74735ba140eddd4c0888",
   "0de20b93bb878d597e59213991465648",
   "8041032711d6bbfc7057a893189b86c8",
   "411259e1a027d218b77c8ad5081d5781",
   "6ddb70747b83a687e84ec2db0c521b19",
   "39ac8f2b52d53c79a2a0573dff6f271a",
   "bfa32ad1cade8e2251e76415922387c6",
   "9184428813e4c32f8a8ab3f1852d6627",
   "265f6cb2d1a3f2335e76193aa4634aff",
   "6479495e68e8eeadebef9ad5de34bdea",
   "efaee005ada1e156800a52b82ac5fd4f",
   "6e17b64b1d908209d95cf58f1ba9b6ea",
   "0de20b93bb878d597e59213991465648",
   "4a43f7adf0b7cedec45aedc85c0c75b5",
   "5c2747dcb917375c7154c0667ff7f9c5",
   "b70d814bbb89576acb266073ac1d0d76",
   "042b0df2272c721b800123e9efc24a8e",
   "74fd0f2882444243c1d6f1c369454de9",
   "e7240f68f7081607d303fd2ff69c033d",
   "24411c55be9f7f26f8bf491a831e95a5",
   "2b5a2f39515f27c3c9ed5ebcf0d614e7",
   "a4bd39251ea9f81b1c4d275e01d97c81",
   "af9a64f712ca604c8aa1d05f37c54fd7",
   "2f43b42fd833d1e77420a8dae7419000",
   "8356ae99f9bbf02f71bb8c64851b2f70",
   "3cfc89373d3af1f82363da5b131e9741",
   "92b0f83b0e37d07f88ad9fb7417a2d40",
   "b9a41d9f5798b28915c0671c92f8512a",
   "23ee57f3dd0b4da4895fac61c37959e6",
   "f8e375ce1df2fc259def4e3da0f9c8f9",
   "5a6fa15443c05c2046ecb20a5888bd19",
   "1c9ac4958becadb49464638a0d823a88",
   "c09429756519fe40ea8398a8a49c0ff1",
   "8692be141210481205f4b89773936d87",
   "3dd0021d5b555a19bbf460da59052893",
   "2b9a539e0833d5578c1c89b91b671a91",
   "d733b6d4dfe3a556a94120944273fb06",
   "21407560f125b233239a5a8807e006b1",
   "cd5fe5928c8a81403d367823e8b3dfdc",
   "9b5369a774672ff0bb9c37205e6b6757",
   "527057e90a2aad3968ae34a0446fc660",
   "9191ac56fdb8e23157913fa9ed7929b6",
   "56a8b126c3b615fe03c7f5168df3dfa3",
   "40d4581833968e28ccf2d3a6ef4cf20a",
   "3eef42296419df62db186e5ff6755620",
   "e9ce22963c3628d97316b252fb629728",
   "0fa4e3623ed5f97d5e5037e190f02593",
   "0de20b93bb878d597e59213991465648",
   "00bd8a102875ececbd91593da30fb122",
   "265f6cb2d1a3f2335e76193aa4634aff",
   "de4c1698a2e2a95c80cd8d424a577959",
   "0de20b93bb878d597e59213991465648",
   "0797e533cfea03bff1d25b50bd1e42ad",
   "f01735ce4e1461eb947f829a4e090ee9",
   "2e69b4b4ab45d61974f06f29b52c7ea7",
   "0de20b93bb878d597e59213991465648",
   "57bcad8204db071d261ad0f823959778",
   "24411c55be9f7f26f8bf491a831e95a5",
   "0d6c7c463bac2e158655dbb14d52a61a",
   "0de20b93bb878d597e59213991465648",
   "6a1b424e82818623ce96034dff6e9d70",
   "1e6cb1fdf7b6f88d3549de21f2958a32",
   "95db504e3a709347a8eae0fb11597ffc",
   "54b4e5768d1933580493e55c89011081",
   "f12bf909700d3f5391b555167d0f17a5",
   "0de20b93bb878d597e59213991465648",
   "8c7ab5eb628607bd3d228a5b447682a5",
   "3cfc89373d3af1f82363da5b131e9741",
   "5dbeb928cbf9f6036a837b19473c6f68",
   "5f424ad4794b2b73d0e7f6a539293137",
   "d908e0eee79b93354b65b7363271fbc6",
   "d04412ed9859df313723d42454081208",
   "00c4f413ec0327f8fda2fb27ff9ddbf0",
   "28f550f2428c7cdc7be2a85cac35a5e5",
   "ab83a13b7209a8376e70748283964f20",
   "83a6c0b3da1e01fc8b860a65ada1d7bf",
   "ae9ec44fbfaa76aabf8b4bc755ccc5d9",
   "3fcb0282597063b60518f1ca5b32dcef",
   "0545c59ade6144183093194779af45fb",
   "9ad88fa6cf05f0b00bf18e79737133fa",
   "d4ec3dd15fa47261e0c33336bc6ae826",
   "4bdb42631d8a508ae01e142f39a133a3",
   "2f43b42fd833d1e77420a8dae7419000",
   "696d38885048aaccafce8e694fc9e857",
   "6ece78b4367ee66ef864b309254fb1ac",
   "37d823c78d853d2c6bfaf0f71f492206",
   "0de20b93bb878d597e59213991465648",
   "cb346d4fa883c3b5c60ff3245f7fbc4e",
   "0de20b93bb878d597e59213991465648",
   "76180e7e7924c8ba0244feb4ec0ef7a0",
   "2f43b42fd833d1e77420a8dae7419000",
   "b79056411485f432c524d04240173b53",
   "82a7a120c438bd367f94b71890df782f",
   "aec149b3d746f8ec771e78a3033e6221",
   "5bcbe51db64d2068a4c8183c26494e12",
   "d3c566073cefd0937462c737a4224ae2",
   "264fe516d0bc8db94851cf503516a956",
   "47db3c7a8d313d1455d56401af5d5ce6",
   "e928bec50bdf8620f4af356d5ddf867f",
   "2f43b42fd833d1e77420a8dae7419000",
   "521cd21467b48e23732a65fd906c8d54",
   "012d52dc27f3e5ec9cf79bc48ec42253",
   "8b9a8ded81e3e8115c6c4cf98a9bc710",
   "b96cae2e74ee972bff7bf4f8a21f834c",
   "689ca12d216456c02432c09f36da3c0b",
   "8ab053dcf117fa45d090fcf04ebafab4"
  ],
  "kernelspec": {
   "display_name": "Python 3",
   "language": "python",
   "name": "python3"
  },
  "language_info": {
   "codemirror_mode": {
    "name": "ipython",
    "version": 3
   },
   "file_extension": ".py",
   "mimetype": "text/x-python",
   "name": "python",
   "nbconvert_exporter": "python",
   "pygments_lexer": "ipython3",
   "version": "3.7.3"
  },
  "number_of_pagebreaks": 4
 },
 "nbformat": 4,
 "nbformat_minor": 2
}
