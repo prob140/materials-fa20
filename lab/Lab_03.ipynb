{
 "cells": [
  {
   "cell_type": "markdown",
   "metadata": {},
   "source": [
    "<table align=\"left\" style=\"border-style: hidden\" class=\"table\"> <tr><td class=\"col-md-2\"><img style=\"float\" src=\"http://prob140.org/assets/icon256.png\" alt=\"Prob140 Logo\" style=\"width: 120px;\"/></td><td><div align=\"left\"><h3 style=\"margin-top: 0;\">Probability for Data Science</h3><h4 style=\"margin-top: 20px;\">UC Berkeley, Fall 2020</h4><p>Ani Adhikari and Jim Pitman</p>CC BY-NC 4.0</div></td></tr></table><!-- not in pdf -->"
   ]
  },
  {
   "cell_type": "code",
   "execution_count": null,
   "metadata": {
    "#solution": false,
    "#staff": false,
    "#student": false
   },
   "outputs": [],
   "source": [
    "from datascience import *\n",
    "from prob140 import *     \n",
    "import numpy as np\n",
    "from scipy import special\n",
    "import pickle"
   ]
  },
  {
   "cell_type": "code",
   "execution_count": null,
   "metadata": {
    "#solution": false,
    "#staff": false,
    "#student": false
   },
   "outputs": [],
   "source": [
    "# Run this code\n",
    "\n",
    "import itertools as it\n",
    "from collections import Counter\n",
    "\n",
    "def clean_string(string):\n",
    "    \"\"\"\n",
    "    Cleans an input string by replacing all newlines with spaces, and then\n",
    "    removing all letters not in *allowable_letters*\n",
    "    \"\"\"\n",
    "    string = string.replace(\"\\n\",\" \")\n",
    "    return \"\".join([i for i in string.lower().strip() if i in allowable_letters])\n",
    "\n",
    "def load_bigrams(text):\n",
    "    \"\"\"\n",
    "    Takes a string which has already been cleaned, and returns a dictionary\n",
    "    of conditional bigram probabilities\n",
    "    \n",
    "    cond_bigram[(a,b)] = P(X_{n+1} = b | X_{n} = a)\n",
    "    \n",
    "    Uses Laplace smoothing with size $1$, to remove zero transition probabilities\n",
    "    \"\"\"\n",
    "    bigram_counter = Counter(list(it.product(allowable_letters, repeat=2)))\n",
    "    gram_counter = Counter(allowable_letters*len(allowable_letters))\n",
    "    for l1, l2 in zip(text,text[1:]):\n",
    "        bigram_counter[(l1, l2)] += 1\n",
    "        gram_counter[l1] += 1\n",
    "    cond_bigram = {k:v/gram_counter[k[0]] for k,v in bigram_counter.items()}\n",
    "    return cond_bigram\n",
    "    \n",
    "def bigram_from_file(filename):\n",
    "    \"\"\"\n",
    "    Given a filename, this reads it, cleans it, and returns the conditional bigram\n",
    "    \"\"\"\n",
    "    file_text = open(filename).read()\n",
    "    file_text = clean_string(file_text)\n",
    "    return load_bigrams(file_text)\n",
    "\n",
    "def reverse_cipher(cipher):\n",
    "    return {v:k for k, v in cipher.items()}\n",
    "\n",
    "def print_differences(cipher1, cipher2):\n",
    "    for k in cipher1:\n",
    "        if cipher1[k] != cipher2[k]:\n",
    "            print(\"%s: %s  %s\"%(k,cipher1[k], cipher2[k]))\n",
    "            \n",
    "def num_errors(cipher, encoded_text, original_text):\n",
    "    decoded = np.array(list(decode_text(encoded_text, cipher)))\n",
    "    original = np.array(list(original_text))\n",
    "    num_errors = np.count_nonzero(decoded != original)\n",
    "    return num_errors\n",
    "\n",
    "def get_secret_text(student_id):\n",
    "    with open('Lab03_data/secret_strings.p', 'rb') as f:\n",
    "        texts = pickle.load(f)\n",
    "    return texts[student_id % len(texts)]"
   ]
  },
  {
   "cell_type": "markdown",
   "metadata": {
    "#solution": false,
    "#staff": false,
    "#student": false
   },
   "source": [
    "# Lab 3: Code Breaking by MCMC #"
   ]
  },
  {
   "cell_type": "markdown",
   "metadata": {
    "#solution": false,
    "#staff": false,
    "#student": false
   },
   "source": [
    "Cryptography is the study of algorithms used to encode and decode messages. Markov Chain Monte Carlo (MCMC) methods have been successfully used to decode messages encrypted using substitution codes and also [more complex](http://probability.ca/jeff/ftpdir/decipherart.pdf) encryption methods. In this lab you will apply MCMC and the Metropolis algorithm to decode English text that has been encrypted with a substitution code.\n",
    "\n",
    "The lab is based on the paper [The Markov Chain Monte Carlo Revolution](https://math.uchicago.edu/~shmuel/Network-course-readings/MCMCRev.pdf) by [Persi Diaconis](https://en.wikipedia.org/wiki/Persi_Diaconis). It was presented at the 25th anniversary celebrations of MSRI up the hill, and appeared in the Bulletin of the American Mathematical Society in November 2008. The code is based on [Simulation and Solving Substitution Codes](http://www-users.york.ac.uk/~sbc502/decode.pdf) written by [Stephen Connor](https://www.york.ac.uk/maths/staff/stephen-connor/) in 2003.\n",
    "\n",
    "Recall that in class we worked with a tiny alphabet and a short message that had been encoded using a substitution code. We used a Markov chain model and a scoring system to choose the decoder that had the highest score. That is, we chose the decoder that had the highest likelihood given the message. \n",
    "\n",
    "Because the alphabet was small, we were able to list all the decoders and their corresponding scores. When the alphabet is large, making an exhaustive list of all possible decoders and scores is not feasible. That's where the Monte Carlo part of the algorithm comes in. The idea is to choose decoders at random using an algorithm that favors good decoders over bad ones.\n",
    "\n",
    "In this lab you will work with an alphabet consisting of all 26 English letters as well as a space character that will have a special status. **Before you begin, please review Sections [11.2](http://prob140.org/textbook/content/Chapter_11/02_Code_Breaking.html) (Code Breaking) and [11.3](http://prob140.org/textbook/content/Chapter_11/03_Metropolis_Algorithm.html) (Metropolis Algorithm) of the textbook.** The lab follows those sections closely.\n",
    "\n",
    "Unlike all the other labs, this lab is not divided into parts. It's just one small project. You will learn how to:\n",
    "- Apply a decoder to encoded text\n",
    "- Use transformations for improved numerical accuracy\n",
    "- Implement the Metropolis algorithm \n",
    "- Decode a message encrypted by a substitution code\n",
    "\n",
    "The programming needed for this lab is more complex than what can reasonably be expected based on just Data 8 background, so much of it has been done for you. Those of you who have more extensive Python knowledge might be interested in looking at the details.\n",
    "\n",
    "Please start by running all the cells above this one."
   ]
  },
  {
   "cell_type": "markdown",
   "metadata": {
    "#solution": false,
    "#staff": false,
    "#student": false
   },
   "source": [
    "## Instructions\n",
    "Your labs have two components: a written portion and a portion that also involves code. Written work should be completed on paper, and coding questions should be done in the notebook. You are welcome to LaTeX your answers to the written portions, but staff will not be able to assist you with LaTeX related issues. It is your responsibility to ensure that both components of the lab are submitted completely and properly to Gradescope. Refer to the bottom of the notebook for submission instructions."
   ]
  },
  {
   "cell_type": "markdown",
   "metadata": {
    "#solution": false,
    "#staff": false,
    "#student": false
   },
   "source": [
    "## Alphabet and Bigrams ##\n",
    "The text that you are going to decode was written in English. For data on the frequencies of all the different bigrams in English, we will start by counting all the bigrams in *War and Peace* by Tolstoy. That is one of the longest novels in English (actually in Russian, but we are using an English translation from Project Gutenberg) and is often used as a \"corpus\" or body of language on which to base analyses of other text.\n",
    "\n",
    "To keep the calculations manageable, we will restrict ourselves to a 27-character alphabet, consisting of the 26 lower case letters and a space. The cell below places all 27 in a list."
   ]
  },
  {
   "cell_type": "code",
   "execution_count": null,
   "metadata": {
    "#solution": false,
    "#staff": false,
    "#student": false
   },
   "outputs": [],
   "source": [
    "allowable_letters = list(\"abcdefghijklmnopqrstuvwxyz \")"
   ]
  },
  {
   "cell_type": "markdown",
   "metadata": {
    "#solution": false,
    "#staff": false,
    "#student": false
   },
   "source": [
    "In the cell below, we find the relative frequencies of all bigrams in War and Peace and place them in the dictionary `wp_bigrams`. You don't need to know what a dictionary is. It's fine to imagine it containing the same information as a Table that has a column with the bigrams and another column with the relative frequencies. "
   ]
  },
  {
   "cell_type": "code",
   "execution_count": null,
   "metadata": {
    "#solution": false,
    "#staff": false,
    "#student": false
   },
   "outputs": [],
   "source": [
    "wp_bigrams = bigram_from_file(\"Lab03_data/warandpeace.txt\")"
   ]
  },
  {
   "cell_type": "markdown",
   "metadata": {
    "#solution": false,
    "#staff": false,
    "#student": false
   },
   "source": [
    "### 1. Transition Matrix ###\n",
    "As in class, we model the sequence of characters in the text as a Markov chain. The state space of the chain is the alphabet of 27 characters. Of course the text has other punctuation, but we are stripping all of it. We are also replacing upper case letters with lower case ones.\n",
    "\n",
    "Construct the transition matrix `wp_bigram_mc` for this Markov chain based on the relative frequencies in `wp_bigrams` defined above.\n",
    "\n",
    "We have started the code off for you by defining the transition function `wp_transition`. Use `allowable_letters` in your definition."
   ]
  },
  {
   "cell_type": "code",
   "execution_count": null,
   "metadata": {
    "#solution": false,
    "#staff": false,
    "#student": true
   },
   "outputs": [],
   "source": [
    "def wp_transition(a, b):\n",
    "    if (a, b) in wp_bigrams:\n",
    "        return wp_bigrams[(a, b)]\n",
    "    return 0\n",
    "\n",
    "wp_bigram_mc = ...\n",
    "wp_bigram_mc"
   ]
  },
  {
   "cell_type": "markdown",
   "metadata": {
    "#solution": false,
    "#staff": false,
    "#student": false
   },
   "source": [
    "## Decoders ##\n",
    "\n",
    "As you know, when a substitution code has been used for encryption, a decoder is a permutation of the alphabet. We apply this permutation to our encoded text in order to generate the decoded text.\n",
    "\n",
    "We will be representing the decoder as a Python dictionary. Here is an example of how a dictionary works, using a three-letter alphabet 'a', 'b', 'c'.\n",
    "\n",
    "If the decoder is ['b', 'c', 'a'] then the substitutions for decoding the encrypted message are\n",
    "\n",
    "$$\n",
    "a \\to b ~~~~~~~~ b \\to c ~~~~~~~~ c \\to a\n",
    "$$\n",
    "\n",
    "This decoder written as a dictionary looks like this:\n",
    "\n",
    "    simple_decoder = {'a':'b','b':'c','c':a'}\n",
    "\n",
    "To access a value in the decoder, use the method `.get`. For example, to access the translation of *a*, use\n",
    "    \n",
    "    simple_decoder.get('a')"
   ]
  },
  {
   "cell_type": "code",
   "execution_count": null,
   "metadata": {
    "#solution": false,
    "#staff": false,
    "#student": false
   },
   "outputs": [],
   "source": [
    "simple_decoder = {'a':'b', 'b':'c', 'c':'a'}\n",
    "simple_decoder.get('a')"
   ]
  },
  {
   "cell_type": "markdown",
   "metadata": {
    "#solution": false,
    "#staff": false,
    "#student": false
   },
   "source": [
    "### Keeping Spaces Intact ###\n",
    "To simplify calculations, we are assuming that our substitution code keeps spaces unchanged. Letters can precede and follow spaces, but spaces will be fixed points in the encoding permutation. \n",
    "\n",
    "So our decoder must keep spaces unchanged as well. The following cell defines a function called `random_decoder` which will randomly generate a decoder. It will operate on the 26 letters, omitting the space.\n",
    "\n",
    "Run the cell below. The function `random_decoder` constructs a random permutation of the alphabet and places it in a dictionary to make it a decoder."
   ]
  },
  {
   "cell_type": "code",
   "execution_count": null,
   "metadata": {
    "#solution": false,
    "#staff": false,
    "#student": false
   },
   "outputs": [],
   "source": [
    "# We don't operate on spaces\n",
    "decoder_letters = np.array(list(\"abcdefghijklmnopqrstuvwxyz\")) \n",
    "\n",
    "# Set up a dictionary with one entry for each letter\n",
    "identity_decoder = {letter:letter for letter in decoder_letters}\n",
    "\n",
    "# Random starting decoder\n",
    "def random_decoder():\n",
    "    \"\"\" Random decoder \"\"\"\n",
    "    new_letters = decoder_letters.copy()\n",
    "    np.random.shuffle(new_letters)\n",
    "    return {orig:new for orig ,new in zip(decoder_letters, new_letters)}"
   ]
  },
  {
   "cell_type": "markdown",
   "metadata": {
    "#solution": false,
    "#staff": false,
    "#student": false
   },
   "source": [
    "#newpage\n",
    "\n",
    "### 2. Applying a Decoder ###\n",
    "\n",
    "Define a function `decode_text` that takes as arguments a `string` to be decoded and the `decoder`. It should return the decoded string.\n",
    "\n",
    "Remember that we are only decoding alphabetical characters. If a character is not in the decoder (e.g. a space), leave the character alone."
   ]
  },
  {
   "cell_type": "code",
   "execution_count": null,
   "metadata": {
    "#solution": false,
    "#staff": false,
    "#student": true
   },
   "outputs": [],
   "source": [
    "def decode_text(string, decoder):\n",
    "    new_string = \"\"\n",
    "    \n",
    "    for char in string:\n",
    "        if char in decoder:\n",
    "            new_letter = ...\n",
    "        else:\n",
    "            new_letter = ...\n",
    "        \n",
    "        # Now we append the letter to the back of the new string\n",
    "        new_string = new_string + new_letter\n",
    "        \n",
    "    return new_string"
   ]
  },
  {
   "cell_type": "markdown",
   "metadata": {
    "#solution": false,
    "#staff": false,
    "#student": false
   },
   "source": [
    "Run the cell below to check that your function works as expected."
   ]
  },
  {
   "cell_type": "code",
   "execution_count": null,
   "metadata": {
    "#solution": false,
    "#staff": false,
    "#student": false
   },
   "outputs": [],
   "source": [
    "simple_decoder = {'a':'b', 'b':'c', 'c':'a'}\n",
    "decode_text(\"abcba\", simple_decoder)"
   ]
  },
  {
   "cell_type": "markdown",
   "metadata": {
    "#solution": false,
    "#staff": false,
    "#student": false
   },
   "source": [
    "## Metropolis Algorithm: Proposal Chain ##\n",
    "The Metropolis algorithm we will use is essentially the same as the one defined in class and proved to converge to the correct distribution. There are tweaks to increase computatational accuracy and to deal with spaces, but you shouldn't worry about either of them.\n",
    "\n",
    "Please have Section [11.3](http://prob140.org/textbook/Chapter_11/03_Metropolis_Algorithm.html) of the textbook at hand as you go through the exercises below.\n",
    "\n",
    "Note that:\n",
    "- The state space $S$ of the proposal chain is the set of all possible decoders.\n",
    "\n",
    "- Define a matrix $Q$ as follows: given that the chain is at decoder $i$, pick another decoder by randomly swapping two elements of $i$. For any two decoders $i$ and $j$, let\n",
    "\n",
    "\\begin{equation}\n",
    "Q(i, j) = \n",
    " \\begin{cases}\n",
    " \\frac{1}{\\binom{26}{2}} & \\text{if } i \\text{ and } j \\text{ differ in exactly two places} \\\\\n",
    "0 & \\text{otherwise}\n",
    " \\end{cases}\n",
    "\\end{equation}\n",
    "\n",
    "Two decoders differ in exactly two places when two letters have \"switched\" positions. For example, in a 3 letter alphabet the decoders `abc` and `bac` differ in exactly two places because `a` and `b` have \"switched\" positions.\n",
    "\n",
    "You will show below that $Q$ satisfies the conditions to be the transition matrix of a proposal chain."
   ]
  },
  {
   "cell_type": "markdown",
   "metadata": {
    "#solution": false,
    "#staff": false,
    "#student": false
   },
   "source": [
    "#newpage\n",
    "\n",
    "### 3a) Properties of $Q$ ###\n",
    "The state space of the proposal chain is large. How many elements does it contain? For reference, `special.comb(n, k)` evaluates to $\\binom{n}{k}$ and `np.math.factorial(n)` evaluates to $n!$. The modules were imported at the start of the lab."
   ]
  },
  {
   "cell_type": "code",
   "execution_count": null,
   "metadata": {
    "#solution": false,
    "#staff": false,
    "#student": true
   },
   "outputs": [],
   "source": [
    "..."
   ]
  },
  {
   "cell_type": "markdown",
   "metadata": {
    "#solution": false,
    "#staff": false,
    "#student": false
   },
   "source": [
    "Define the three permutations below:\n",
    "\n",
    "- decoder_1: alphabetical order, that is, `abcdef ... xyz`\n",
    "- decoder_2: `bacdef ... xyz`, that is, `ba` followed by the other letters in alphabetical order\n",
    "- decoder_3: `badcef ... xyz`, that is, `badc` followed by the other letters in alphabetical order\n",
    "\n",
    "For each of (i)-(iv) below, type 1/(26_choose_2) if you think the value is $1/\\binom{26}{2}$ and 0 otherwise, and enter the reason for your choice."
   ]
  },
  {
   "cell_type": "markdown",
   "metadata": {
    "#solution": false,
    "#staff": false,
    "#student": true
   },
   "source": [
    "\n",
    "(i) Q(decoder_1, decoder_2)  =  \n",
    "\n",
    "because \n",
    "\n",
    "(ii) Q(decoder_2, decoder_1) =  \n",
    "\n",
    "because\n",
    "\n",
    "(iii) Q(decoder_1, decoder_3) = \n",
    "\n",
    "because\n",
    "\n",
    "(iv) Q(decoder_2, decoder_3) = \n",
    "\n",
    "because"
   ]
  },
  {
   "cell_type": "markdown",
   "metadata": {
    "#solution": false,
    "#staff": false,
    "#student": false
   },
   "source": [
    "**Symmetric Transition Matrix:** Explain why $Q$ is a symmetric transition matrix. \n",
    "\n",
    "[Note: You have to establish that $Q$ is symmetric and that it is a transition matrix. For the latter, it is a good idea to focus on the row corresponding to decoder_1 above. What criteria do the entries of each row have to satisfy? Why are the criteria satisfied?]"
   ]
  },
  {
   "cell_type": "markdown",
   "metadata": {
    "#solution": false,
    "#staff": false,
    "#student": true
   },
   "source": [
    "\n",
    "**Your answer here.**"
   ]
  },
  {
   "cell_type": "markdown",
   "metadata": {
    "#solution": false,
    "#staff": false,
    "#student": false
   },
   "source": [
    "**Irreducible:** It is a fact that Q is the transition matrix of an irreducible chain, but formally establishing that takes a bit of writing. To avoid complicated writing, let's reduce the problem to an alphabet of just three letters `a`, `b`, and `c` and transition behavior defined analogously on the six decoders, with positive transition probabilities each equal to 1/(3_choose_2) = 1/3 if the two permutations differ in exactly two places. **Why does this create an irreducible chain?**"
   ]
  },
  {
   "cell_type": "markdown",
   "metadata": {
    "#solution": false,
    "#staff": false,
    "#student": true
   },
   "source": [
    "\n",
    "**Your answer here.**"
   ]
  },
  {
   "cell_type": "markdown",
   "metadata": {
    "#solution": false,
    "#staff": false,
    "#student": false
   },
   "source": [
    "For any size of alphabet, there is a [famous algorithm](https://en.wikipedia.org/wiki/Steinhaus%E2%80%93Johnson%E2%80%93Trotter_algorithm) for creating all possible permutations by successively swapping two *adjacent* elements. It was known to bell-ringers in 17th-century England. Adjacent swaps are among the transitions allowed by the matrix $Q$, so the chain is irreducible. "
   ]
  },
  {
   "cell_type": "markdown",
   "metadata": {
    "#solution": false,
    "#staff": false,
    "#student": false
   },
   "source": [
    "**Proposal Chain:** Now explain why $Q$ satisfies all the criteria for the transition matrix of a proposal chain. You have done all the work already; carefully read the Metropolis Algorithm section of [Section 11.3](http://prob140.org/textbook/Chapter_11/03_Metropolis_Algorithm.html) to see what is needed."
   ]
  },
  {
   "cell_type": "markdown",
   "metadata": {
    "#solution": false,
    "#staff": false,
    "#student": true
   },
   "source": [
    "\n",
    "**Your answer here.**"
   ]
  },
  {
   "cell_type": "markdown",
   "metadata": {
    "#solution": false,
    "#staff": false,
    "#student": false
   },
   "source": [
    "### 3b) Making a Proposal to Move ###\n",
    "\n",
    "Define the function `generate_proposed_decoder` which takes an existing decoder and returns a new decoder as follows: it randomly picks two different letters of the alphabet and swaps the decoding for those letters. Make sure to use `decoder_letters` rather than `allowable_letters` because we want to keep the spaces as is.\n",
    "\n",
    "For example, if we have the decoder `{'a':'b','b':'c','c':a'}` and decide to swap `a` and `b`, our new decoder should be `{'a':'c','b':'b','c':a'}`. \n",
    "\n",
    "There are several different ways you can use Python to draw random samples. In this instance we recommend `np.random.choice`. It takes two arguments:\n",
    "- a list from which to sample uniformly at random with replacement\n",
    "- the number of times to sample\n",
    "\n",
    "The optional argument `replace=False` leads to simple random sampling.\n",
    "\n",
    "It returns an array consisting of the sampled elements."
   ]
  },
  {
   "cell_type": "code",
   "execution_count": null,
   "metadata": {
    "#solution": false,
    "#staff": false,
    "#student": true
   },
   "outputs": [],
   "source": [
    "def generate_proposed_decoder(decoder):\n",
    "    new_decoder = decoder.copy()\n",
    "    \n",
    "    letters = np.random.choice(\n",
    "        ..., size = 2, ...)\n",
    "    \n",
    "    letter1 = ...\n",
    "    letter2 = ...\n",
    "    \n",
    "    new_value_of_letter1 = ...\n",
    "    new_value_of_letter2 = ...\n",
    "\n",
    "    # This code replaces the value of letter1 and letter2 \n",
    "    # with new_value_of_letter1 and new_value_of_letter2\n",
    "    new_decoder[letter1] = new_value_of_letter1\n",
    "    new_decoder[letter2] = new_value_of_letter2\n",
    "    return new_decoder"
   ]
  },
  {
   "cell_type": "markdown",
   "metadata": {
    "#solution": false,
    "#staff": false,
    "#student": false
   },
   "source": [
    "## The Target Distribution $\\pi$ ##\n",
    "\n",
    "For letters $x_1$ and $x_2$, let $B(x_1, x_2)$ be the $(x_1, x_2)$th entry in the bigram transition matrix. Suppose the decoded text consists of the characters $x_0, x_1, \\ldots , x_n$. Recall from class that we defined the *score* of the corresponding decoder $i$ to be\n",
    "\n",
    "$$\n",
    "s(i) = \\prod_{k=0}^{n-1}B_i(x_k, x_{k+1})\n",
    "$$\n",
    "\n",
    "Here's a tweak to what was done in class. When the string is long, the score of any decoder is going to be very small. This causes problems with numerical accuracy. So we will work with the log-score instead, that is, with the $\\log$ of the score. \n",
    "\n",
    "$$\n",
    "\\log(s(i)) = \\sum_{k=0}^{n-1} \\log(B_i(x_k, x_{k+1}))\n",
    "$$\n"
   ]
  },
  {
   "cell_type": "markdown",
   "metadata": {
    "#solution": false,
    "#staff": false,
    "#student": false
   },
   "source": [
    "#newpage\n",
    "\n",
    "### 4. Log Probability of Path ###\n",
    "\n",
    "Define a function `log_prob_path` that takes two arguments:\n",
    "- a string `message` that is a sequence of letters \n",
    "- the bigram transition matrix `mc` of a `MarkovChain` \n",
    "\n",
    "and returns the log of the probability of the path `message` taken by `mc`, given that the first character of `message` is the initial state of the path.\n",
    "\n",
    "Though `mc.prob_of_path` returns the probability of the path, don't use `np.log(mc.prob_of_path)`. Each path has very small probability, so the numbers will round too soon and your computations might be inaccurate.\n",
    "\n",
    "Instead, you can use the function [`mc.log_prob_of_path`](http://prob140.org/prob140/_autosummary/prob140.MarkovChain.log_prob_of_path.html#prob140.MarkovChain.log_prob_of_path). This takes as its first argument the starting character of the string, and as its next argument a list or array containing the characters in the rest of the string. It returns the log of the probability of the path, conditional on the starting character.\n",
    "\n",
    "Some string methods will be helpful:\n",
    "\n",
    "* `string[0]` returns the first letter of a string. For example:\n",
    "```python\n",
    ">>> x = 'HELLO'\n",
    ">>> x[0]\n",
    "'H'\n",
    "```\n",
    "* `string[1:]` returns everything except the first letter of a string. For example:\n",
    "```python\n",
    ">>> x[1:]\n",
    "'ELLO'\n",
    "```\n",
    "* `list(string)` splits the string into a list of its characters. This was used above to generate `allowable_letters`."
   ]
  },
  {
   "cell_type": "code",
   "execution_count": null,
   "metadata": {
    "#solution": false,
    "#staff": false,
    "#student": true
   },
   "outputs": [],
   "source": [
    "def log_prob_path(string, bigram_mc):\n",
    "    start = ...\n",
    "    \n",
    "    path = list(...)\n",
    "    \n",
    "    return bigram_mc.log_prob_of_path(start, path)"
   ]
  },
  {
   "cell_type": "markdown",
   "metadata": {
    "#solution": false,
    "#staff": false,
    "#student": false
   },
   "source": [
    "#newpage\n",
    "\n",
    "### 5. Log Score of Decoder ###\n",
    "\n",
    "Define a function `log_score` that takes the following arguments:\n",
    "\n",
    "- an encrypted string `string`\n",
    "- a decoder `decoder`\n",
    "- a bigram transition matrix `bigrams`\n",
    "\n",
    "The function should decode the encrypted string using the decoder, and return the log score of the decoder.\n",
    "\n",
    "Use the functions `decode_text` and `log_prob_path` that you wrote earlier."
   ]
  },
  {
   "cell_type": "code",
   "execution_count": null,
   "metadata": {
    "#solution": false,
    "#staff": false,
    "#student": true
   },
   "outputs": [],
   "source": [
    "def log_score(string, decoder, bigrams):\n",
    "    ...\n",
    "    return ..."
   ]
  },
  {
   "cell_type": "markdown",
   "metadata": {
    "#solution": false,
    "#staff": false,
    "#student": false
   },
   "source": [
    "### Acceptance Ratios ###\n",
    "We would like Decoder $i$ to appear among our randomly selected decoders with target probability $\\pi(i)$, where $\\pi(i)$ is the likelihood of $i$ given the data. As we saw in class, the likelihood $\\pi(i)$ is proportional to $s(i)$ but we don't know the constant of proportionality. However, for any two decoders $i$ and $j$, we can calculate the ratio\n",
    "\n",
    "$$\n",
    "r(i, j) = \\frac{\\pi(j)}{\\pi(i)} = \\frac{s(j)}{s(i)}\n",
    "$$\n",
    "\n",
    "The Metropolis algorithm creates a new chain that has $\\pi$ as its limit distribution. Recall that if the new chain is at $i$, then the decision about whether or not to accept a transition to a new state $j$ depends on the ratio $r(i, j)$.\n",
    "\n",
    "Because we are working with log scores and not the scores themselves, every statement that we made in class about scores has to be rewritten in terms of log scores. For example, the ratio can be written as\n",
    "\n",
    "$$\n",
    "\\frac{s(j)}{s(i)} = e^{\\log(\\frac{s(j)}{s(i)})} = e^{\\log(s(j)) - \\log(s(i))}\n",
    "$$\n",
    "\n",
    "You will have to calculate the ratios, so keep in mind that `np.e**(x)` evaluates to $e^x$."
   ]
  },
  {
   "cell_type": "markdown",
   "metadata": {
    "#solution": false,
    "#staff": false,
    "#student": false
   },
   "source": [
    "Write the condition $r(i, j) < 1$ in terms of $\\log(s(i))$ and $\\log(s(j)$. Justify your answer."
   ]
  },
  {
   "cell_type": "markdown",
   "metadata": {
    "#solution": false,
    "#staff": false,
    "#student": true
   },
   "source": [
    "\n",
    "**Your answer here.**"
   ]
  },
  {
   "cell_type": "markdown",
   "metadata": {
    "#solution": false,
    "#staff": false,
    "#student": false
   },
   "source": [
    "## Implementing the Metropolis Algorithm ##"
   ]
  },
  {
   "cell_type": "markdown",
   "metadata": {
    "#solution": false,
    "#staff": false,
    "#student": false
   },
   "source": [
    "#newpage\n",
    "\n",
    "### 6. An Encoded Message ###\n",
    "\n",
    "Enter your student id in the cell below to access your secret encoded message. By the end of the lab, you should be able to decode your string."
   ]
  },
  {
   "cell_type": "code",
   "execution_count": null,
   "metadata": {
    "#solution": false,
    "#staff": false,
    "#student": true
   },
   "outputs": [],
   "source": [
    "student_id = ...\n",
    "secret_text = get_secret_text(student_id)\n",
    "secret_text"
   ]
  },
  {
   "cell_type": "markdown",
   "metadata": {
    "#solution": false,
    "#staff": false,
    "#student": false
   },
   "source": [
    "#newpage\n",
    "\n",
    "### 7. Implementation ###\n",
    "\n",
    "Define the function `metropolis` which will take as its arguments:\n",
    "\n",
    "- the encrypted text, as a string `string_to_decode`\n",
    "- the transition matrix of bigrams `bigrams`\n",
    "- the number of repetitions for running the Metropolis algorithm `reps`\n",
    "\n",
    "The function should return the decoder that it arrives at after performing the Metropolis algorithm the specified number of times. \n",
    "\n",
    "If the number of repetitions is large, you know from class that the distribution of this random decoder is close to the desired distribution $\\pi$ which is the likelihood distribution of the decoder given the data. Therefore you expect to end up with a decoder that has a high likelihood compared to the other decoders.\n",
    "\n",
    "Between iterations, you should keep track of the following variables:\n",
    "\n",
    "1. `best_decoder`: the decoder that has the highest log score\n",
    "2. `best_score`: the log score associated with the best_decoder\n",
    "3. `decoder`: the decoder that you are currently working with\n",
    "4. `last_score`: the log score of the current decoder\n",
    "\n",
    "In each iteration, you should do the following:\n",
    "\n",
    "1. Generate a new decoder based on the current decoder; the \"new\" decoder might be the same as the current one.\n",
    "2. Calculate the log score of your new decoder.\n",
    "3. **Important:** Follow the Metropolis algorithm to decide whether or not to move to a new decoder.\n",
    "4. If the new decoder's log score is the best seen so far, update `best_score` and `best_decoder`"
   ]
  },
  {
   "cell_type": "code",
   "execution_count": null,
   "metadata": {
    "#solution": false,
    "#staff": false,
    "#student": true
   },
   "outputs": [],
   "source": [
    "import time\n",
    "\n",
    "def p_coin(p):\n",
    "    \"\"\"\n",
    "    Flips a coin that comes up heads with probability p\n",
    "    and returns 1 if Heads, 0 if Tails\n",
    "    \"\"\"\n",
    "    return np.random.random() < p\n",
    "\n",
    "\n",
    "def metropolis(string_to_decode, bigrams, reps):\n",
    "    decoder = random_decoder() # Starting decoder\n",
    "    \n",
    "    best_decoder = decoder\n",
    "    best_score = log_score(\n",
    "        string_to_decode,\n",
    "        best_decoder,\n",
    "        bigrams\n",
    "    )\n",
    "    \n",
    "    last_score = best_score\n",
    "    \n",
    "    for rep in np.arange(reps):\n",
    "        \n",
    "        # This will print out our progress\n",
    "        if rep*10%reps == 0: # Repeat every 10%\n",
    "            time.sleep(.01)\n",
    "            decoded_text = decode_text(\n",
    "                string_to_decode,\n",
    "                best_decoder\n",
    "            )[:40]\n",
    "            print('Score: %.00f \\t Guess: %s'%(best_score, decoded_text))\n",
    "            \n",
    "        #########################\n",
    "        # Your code starts here #\n",
    "        #########################\n",
    "        proposed_decoder = ...\n",
    "        log_s_orig = ...\n",
    "        log_s_new = ...\n",
    "        \n",
    "        # If better than before or p-coin flip works\n",
    "        if log_s_new ... log_s_orig or p_coin(...): \n",
    "            \n",
    "            ...\n",
    "            \n",
    "            if log_s_new > best_score:\n",
    "                ...\n",
    "    return best_decoder"
   ]
  },
  {
   "cell_type": "markdown",
   "metadata": {
    "#solution": false,
    "#staff": false,
    "#student": false
   },
   "source": [
    "## Running It ##\n",
    "\n",
    "The text you are going to first encrypt and then decode is taken from [Winston Churchill's speech](https://en.wikipedia.org/wiki/We_shall_fight_on_the_beaches) to the House of Commons on 4 June 1940. Naturally, it contains upper case letters and punctuation that we have not included in our alphabet. In the cell below, the function `clean_string` strips out all the punctuation and replaces upper case letters by the corresponding lower case letters."
   ]
  },
  {
   "cell_type": "code",
   "execution_count": null,
   "metadata": {
    "#solution": false,
    "#staff": false,
    "#student": false
   },
   "outputs": [],
   "source": [
    "ogtext = \"\"\"\n",
    "I have, myself, full confidence that if all do their duty, if nothing is neglected, \n",
    "and if the best arrangements are made, as they are being made, we shall prove ourselves \n",
    "once again able to defend our Island home, to ride out the storm of war, and to outlive \n",
    "the menace of tyranny, if necessary for years, if necessary alone. At any rate, that is \n",
    "what we are going to try to do. That is the resolve of His Majesty’s Government-every man \n",
    "of them. That is the will of Parliament and the nation. \n",
    "\"\"\"\n",
    "original_string = clean_string(ogtext)\n",
    "encoding_cipher = random_decoder()\n",
    "string_to_decode = decode_text(original_string,encoding_cipher)\n",
    "string_to_decode"
   ]
  },
  {
   "cell_type": "markdown",
   "metadata": {
    "#solution": false,
    "#staff": false,
    "#student": false
   },
   "source": [
    "### 8a) Finding the Decoder ###\n",
    "Run the following cell to generate your decoder. You may have to run the cell a couple of times to get the correct decoder."
   ]
  },
  {
   "cell_type": "code",
   "execution_count": null,
   "metadata": {
    "#solution": false,
    "#staff": false,
    "#student": false
   },
   "outputs": [],
   "source": [
    "new_decoder = metropolis(string_to_decode, wp_bigram_mc, 10000) "
   ]
  },
  {
   "cell_type": "markdown",
   "metadata": {
    "#solution": false,
    "#staff": false,
    "#student": false
   },
   "source": [
    "Run the cell below to decode the entire string."
   ]
  },
  {
   "cell_type": "code",
   "execution_count": null,
   "metadata": {
    "#solution": false,
    "#staff": false,
    "#student": true
   },
   "outputs": [],
   "source": [
    "decode_text(string_to_decode, new_decoder)"
   ]
  },
  {
   "cell_type": "markdown",
   "metadata": {
    "#solution": false,
    "#staff": false,
    "#student": false
   },
   "source": [
    "### 8b) Decoding Your Secret Message\n",
    "\n",
    "`secret_text` contains your customized, secret message. Use MCMC to decode it. (Note: Even with correct implementation of previous parts, it may take a few runs to successfully decode the text due to randomness in the algorithm.)"
   ]
  },
  {
   "cell_type": "code",
   "execution_count": null,
   "metadata": {
    "#solution": false,
    "#staff": false,
    "#student": true
   },
   "outputs": [],
   "source": [
    "secret_decoder = metropolis(...)\n",
    "decode_text(secret_text, secret_decoder)"
   ]
  },
  {
   "cell_type": "markdown",
   "metadata": {
    "#solution": false,
    "#staff": false,
    "#student": false
   },
   "source": [
    "## Conclusion ##\n",
    "What you have learned:\n",
    "- How to implement the Metropolis algorithm to decode text encrypted by a substitution code, with simplifying assumptions about spaces, capitalization, and punctuation\n",
    "- MCMC works\n",
    "- Abstract concepts such as balance and convergence of $n$-step transition matrices are remarkable in their own right and also have powerful applications"
   ]
  },
  {
   "cell_type": "markdown",
   "metadata": {
    "#solution": false,
    "#staff": false,
    "#student": false
   },
   "source": [
    "## Submission Instructions ##\n",
    "\n",
    "Many assignments throughout the course will have a written portion and a code portion. Please follow the directions below to properly submit both portions. \n",
    "\n",
    "### Written Portion ###\n",
    "*  Scan all the pages into a PDF. You can use any scanner or mobile application. There are many free apps available that allow you to convert your work into PDFs from your phone. Please **DO NOT** simply take pictures using your phone. \n",
    "* Please start a new page for each question. If you have already written multiple questions on the same page, you can crop the image or fold your page over (the old-fashioned way). This helps expedite grading.\n",
    "* It is your responsibility to check that all the work on all the scanned pages is legible.\n",
    "\n",
    "### Code Portion ###\n",
    "* Save your notebook using File > Save and Checkpoint.\n",
    "* Generate a PDF file using File > Download as > PDF via LaTeX. This might take a few seconds and will automatically download a PDF version of this notebook.\n",
    "    * If you have issues, please make a follow-up post on the general Lab 5 Piazza thread.\n",
    "    \n",
    "### Submitting ###\n",
    "* Combine the PDFs from the written and code portions into one PDF.  [Here](https://smallpdf.com/merge-pdf) is a useful tool for doing so. \n",
    "* Submit the assignment to Lab 5 on Gradescope. \n",
    "* **Make sure to assign each page of your pdf to the correct question.**\n",
    "* **It is your responsibility to verify that all of your work shows up in your final PDF submission.**\n"
   ]
  }
 ],
 "metadata": {
  "anaconda-cloud": {},
  "checksums": [
   "f55a7e1c90e2595b233c3956a2783786",
   "bf34c7013940d79ba8b508c42d7ec159",
   "81081130a844269c656b32e2c03e5154",
   "2a8141c17e2449290c28f9f45ec70fc8",
   "31217044fdcd3e106c0962b52433d728",
   "518c84f8a1f148dbd174743a2ce02a06",
   "4db0d1a17c9f5c2658fb8fcf10cf4c30",
   "c1912f16f311b1d93153155b717e36be",
   "ba3cb46122e0a1ce6a5e62a763b58ae5",
   "bd19d90aee753875c9bb14c206c4ffcd",
   "57cb487a17a0ef957f09850dc0a0514a",
   "6496d78f35dd22b8f498c56c77868861",
   "1d5e3d16d72f76543a3460d59619dfe4",
   "dd1a3684b3f691f41f85e497bc4f97c3",
   "d499bbbb45e4e6c70f6bafb05442bd05",
   "e894646895a4af6e0c8211f8472cd70a",
   "0a5b999a78b8d16e4e460722448171a6",
   "1d946f9e91b7dc0b99104ce32f007045",
   "b628eff881773934574ba944428d70db",
   "48ebdf134fd3290c6f5f7c070439be0a",
   "b3becdd8a3adcb71bfb146b9afc06988",
   "eef5eb46a153ddba392879a8ca96e448",
   "2f43b42fd833d1e77420a8dae7419000",
   "95d669ce1ecf42438ac81572f6fad17b",
   "f03589ddcc55bc8b69dcc9e59811dc29",
   "925c19707780dce63e4c5a267fd2ddf3",
   "3a76d7cce4e9ecdb4fe70737e7879960",
   "b5431bb7a8009e8e77e3c660c8f8dd35",
   "3a76d7cce4e9ecdb4fe70737e7879960",
   "016fd6620792bc9e5f9dfa60a22c9f85",
   "7e1dabe2d0ae1d0b64562e7f5f58ed73",
   "3a76d7cce4e9ecdb4fe70737e7879960",
   "767187ecf05e5d2b20bbe0f9f16a1b54",
   "cb7e52f69070e510c7fc5d4fddb6ec23",
   "0677609636be37812a11b7a2ee536ebc",
   "d3ddd3cb949a57eb10b7c33eb9668ff2",
   "a0a9754a3de78df8ef6d1c3fa6518607",
   "eb5e5ffb61b0a81a4a4992e68ed8b8d0",
   "fba421c3f33ce40f1a48a801e870abc7",
   "cb771431397ebab49e5305758149d630",
   "365b827c84b9575c8afd1ea77f1c7da0",
   "3a76d7cce4e9ecdb4fe70737e7879960",
   "a6a59d20a2769bc6c28d70afe2d1a953",
   "0457c2c7563184126b442c108afc59b6",
   "416472516a05995c34c20841635b7531",
   "0c1b0a789a417f719ce029dba6fc38cb",
   "bf3ab0a0b5ca1ff155dce7d3c91f6b6c",
   "48021f5a24ee2189294484b961acefbd",
   "bc67157562aa1610ccf2c46552dca23a",
   "173a3ab396f52dbde9d8bf37418c905e",
   "be2d62c6138ec4854efbb7714c2037fd",
   "c12dee123fcf85747921585f7e211e4a",
   "fb19e0eb13cfd3b6ce245572e7583e4d",
   "e0c78da957e65717b0cab9ad690f25f2",
   "3b96e6b115f11148b4909943469818d0",
   "d668949aacb91bf6c5ecff37dc3e1643",
   "15c261177eee6c362ed25ca1747442a8"
  ],
  "kernelspec": {
   "display_name": "Python 3",
   "language": "python",
   "name": "python3"
  },
  "language_info": {
   "codemirror_mode": {
    "name": "ipython",
    "version": 3
   },
   "file_extension": ".py",
   "mimetype": "text/x-python",
   "name": "python",
   "nbconvert_exporter": "python",
   "pygments_lexer": "ipython3",
   "version": "3.7.3"
  },
  "number_of_pagebreaks": 6
 },
 "nbformat": 4,
 "nbformat_minor": 2
}
